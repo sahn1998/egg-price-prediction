{
 "cells": [
  {
   "cell_type": "markdown",
   "metadata": {},
   "source": [
    "# EDA\n",
    "This file should be utilized to do EDAs"
   ]
  },
  {
   "cell_type": "markdown",
   "metadata": {},
   "source": [
    "# Import Files"
   ]
  },
  {
   "cell_type": "code",
   "execution_count": 4,
   "metadata": {},
   "outputs": [],
   "source": [
    "import os\n",
    "\n",
    "import pandas as pd\n",
    "import numpy as np\n",
    "import seaborn as sns\n",
    "from matplotlib import pyplot as plt\n",
    "\n",
    "import redshift_connector"
   ]
  },
  {
   "cell_type": "markdown",
   "metadata": {},
   "source": [
    "# Redshift Connection"
   ]
  },
  {
   "cell_type": "code",
   "execution_count": 5,
   "metadata": {},
   "outputs": [
    {
     "name": "stdout",
     "output_type": "stream",
     "text": [
      "Tables in schema public:\n",
      "average_egg_price\n",
      "us_national_outbreaks\n",
      "h5n1_outbreaks\n",
      "us_national_disaster\n",
      "covid_hospitalization\n",
      "us_population\n"
     ]
    }
   ],
   "source": [
    "conn = redshift_connector.connect(\n",
    "    host='cspc-workgroup.783764604578.us-west-2.redshift-serverless.amazonaws.com',\n",
    "    database='cspc5071-dsa',\n",
    "    port=5439,\n",
    "    user='python_user',\n",
    "    password='Database123!' # Not best practice but who cares :))\n",
    " )\n",
    "cursor = conn.cursor()\n",
    "\n",
    "# Query to get the list of tables in the specified schema\n",
    "query = f\"\"\"\n",
    "SELECT table_name\n",
    "FROM information_schema.tables\n",
    "WHERE table_schema = 'public'\n",
    "AND table_type = 'BASE TABLE';\n",
    "\"\"\"\n",
    "\n",
    "cursor.execute(query)\n",
    "tables = cursor.fetchall()\n",
    "\n",
    "print(f\"Tables in schema public:\")\n",
    "for table in tables:\n",
    "    print(table[0]) # These are all the data we have in AWS redshift."
   ]
  },
  {
   "cell_type": "code",
   "execution_count": 6,
   "metadata": {},
   "outputs": [],
   "source": [
    "# Function to query to redshift: Returns a dataframe \n",
    "def querying_to_redshift(query, cursor):\n",
    "    cursor.execute(query)\n",
    "    df : pd.DataFrame = cursor.fetch_dataframe()\n",
    "\n",
    "    return df"
   ]
  },
  {
   "cell_type": "code",
   "execution_count": 14,
   "metadata": {},
   "outputs": [],
   "source": [
    "bird = pd.read_csv(\"../data/date_organized_avian_flu_bird.csv\", index_col = 0)\n",
    "human = pd.read_csv(\"../data/date_organized_avian_flu_human.csv\", index_col = 0)"
   ]
  },
  {
   "cell_type": "code",
   "execution_count": 15,
   "metadata": {},
   "outputs": [
    {
     "data": {
      "text/plain": [
       "(     FullGeoName  FIPS Codes County Name         State Outbreak Date  \\\n",
       " 0    MI, Jackson       26075     Jackson      Michigan    2024-12-31   \n",
       " 1  CA, Riverside        6065   Riverside    California    2024-12-31   \n",
       " 2      CA, Butte        6007       Butte    California    2024-12-31   \n",
       " 3      SD, Miner       46097       Miner  South Dakota    2024-12-31   \n",
       " 4     MI, Ottawa       26139      Ottawa      Michigan    2024-12-31   \n",
       " \n",
       "                                           Flock Type  Flock Size  State Count  \\\n",
       " 0                                   WOAH Non-Poultry           9            1   \n",
       " 1  Commercial Table Egg Layer; WOAH Non-Poultry; ...     1503370            1   \n",
       " 2  WOAH Non-Poultry; Commercial Raised for Releas...       45890            0   \n",
       " 3                                       WOAH Poultry        1500            1   \n",
       " 4                        Commercial Turkey Meat Bird      447700            0   \n",
       " \n",
       "    Outbreaks  Counties  yyyy_mm  \n",
       " 0          1         1  2024-12  \n",
       " 1          5         1  2024-12  \n",
       " 2          4         1  2024-12  \n",
       " 3          1         1  2024-12  \n",
       " 4          7         1  2024-12  ,\n",
       "    Entity Code         Day  \\\n",
       " 0  Africa  NaN  1997-01-01   \n",
       " 1  Africa  NaN  1997-01-02   \n",
       " 2  Africa  NaN  1997-01-03   \n",
       " 3  Africa  NaN  1997-01-04   \n",
       " 4  Africa  NaN  1997-01-05   \n",
       " \n",
       "    Human cases with highly pathogenic avian influenza A/H5N1 (monthly)  \\\n",
       " 0                                                  0                     \n",
       " 1                                                  0                     \n",
       " 2                                                  0                     \n",
       " 3                                                  0                     \n",
       " 4                                                  0                     \n",
       " \n",
       "    yyyy_mm  \n",
       " 0  1997-01  \n",
       " 1  1997-01  \n",
       " 2  1997-01  \n",
       " 3  1997-01  \n",
       " 4  1997-01  )"
      ]
     },
     "execution_count": 15,
     "metadata": {},
     "output_type": "execute_result"
    }
   ],
   "source": [
    "bird.head(), human.head()"
   ]
  },
  {
   "cell_type": "code",
   "execution_count": 16,
   "metadata": {},
   "outputs": [
    {
     "data": {
      "text/html": [
       "<div>\n",
       "<style scoped>\n",
       "    .dataframe tbody tr th:only-of-type {\n",
       "        vertical-align: middle;\n",
       "    }\n",
       "\n",
       "    .dataframe tbody tr th {\n",
       "        vertical-align: top;\n",
       "    }\n",
       "\n",
       "    .dataframe thead th {\n",
       "        text-align: right;\n",
       "    }\n",
       "</style>\n",
       "<table border=\"1\" class=\"dataframe\">\n",
       "  <thead>\n",
       "    <tr style=\"text-align: right;\">\n",
       "      <th></th>\n",
       "      <th>yyyy_mm</th>\n",
       "      <th>Flock_Count</th>\n",
       "    </tr>\n",
       "  </thead>\n",
       "  <tbody>\n",
       "    <tr>\n",
       "      <th>0</th>\n",
       "      <td>2022-02</td>\n",
       "      <td>6</td>\n",
       "    </tr>\n",
       "    <tr>\n",
       "      <th>1</th>\n",
       "      <td>2022-03</td>\n",
       "      <td>31</td>\n",
       "    </tr>\n",
       "    <tr>\n",
       "      <th>2</th>\n",
       "      <td>2022-04</td>\n",
       "      <td>41</td>\n",
       "    </tr>\n",
       "    <tr>\n",
       "      <th>3</th>\n",
       "      <td>2022-05</td>\n",
       "      <td>30</td>\n",
       "    </tr>\n",
       "    <tr>\n",
       "      <th>4</th>\n",
       "      <td>2022-06</td>\n",
       "      <td>4</td>\n",
       "    </tr>\n",
       "    <tr>\n",
       "      <th>5</th>\n",
       "      <td>2022-07</td>\n",
       "      <td>2</td>\n",
       "    </tr>\n",
       "    <tr>\n",
       "      <th>6</th>\n",
       "      <td>2022-08</td>\n",
       "      <td>8</td>\n",
       "    </tr>\n",
       "    <tr>\n",
       "      <th>7</th>\n",
       "      <td>2022-09</td>\n",
       "      <td>33</td>\n",
       "    </tr>\n",
       "    <tr>\n",
       "      <th>8</th>\n",
       "      <td>2022-10</td>\n",
       "      <td>47</td>\n",
       "    </tr>\n",
       "    <tr>\n",
       "      <th>9</th>\n",
       "      <td>2022-11</td>\n",
       "      <td>41</td>\n",
       "    </tr>\n",
       "    <tr>\n",
       "      <th>10</th>\n",
       "      <td>2022-12</td>\n",
       "      <td>45</td>\n",
       "    </tr>\n",
       "    <tr>\n",
       "      <th>11</th>\n",
       "      <td>2023-01</td>\n",
       "      <td>6</td>\n",
       "    </tr>\n",
       "    <tr>\n",
       "      <th>12</th>\n",
       "      <td>2023-02</td>\n",
       "      <td>11</td>\n",
       "    </tr>\n",
       "    <tr>\n",
       "      <th>13</th>\n",
       "      <td>2023-03</td>\n",
       "      <td>17</td>\n",
       "    </tr>\n",
       "    <tr>\n",
       "      <th>14</th>\n",
       "      <td>2023-04</td>\n",
       "      <td>8</td>\n",
       "    </tr>\n",
       "    <tr>\n",
       "      <th>15</th>\n",
       "      <td>2023-05</td>\n",
       "      <td>4</td>\n",
       "    </tr>\n",
       "    <tr>\n",
       "      <th>16</th>\n",
       "      <td>2023-08</td>\n",
       "      <td>1</td>\n",
       "    </tr>\n",
       "    <tr>\n",
       "      <th>17</th>\n",
       "      <td>2023-09</td>\n",
       "      <td>1</td>\n",
       "    </tr>\n",
       "    <tr>\n",
       "      <th>18</th>\n",
       "      <td>2023-10</td>\n",
       "      <td>15</td>\n",
       "    </tr>\n",
       "    <tr>\n",
       "      <th>19</th>\n",
       "      <td>2023-11</td>\n",
       "      <td>47</td>\n",
       "    </tr>\n",
       "    <tr>\n",
       "      <th>20</th>\n",
       "      <td>2023-12</td>\n",
       "      <td>44</td>\n",
       "    </tr>\n",
       "    <tr>\n",
       "      <th>21</th>\n",
       "      <td>2024-01</td>\n",
       "      <td>6</td>\n",
       "    </tr>\n",
       "    <tr>\n",
       "      <th>22</th>\n",
       "      <td>2024-02</td>\n",
       "      <td>13</td>\n",
       "    </tr>\n",
       "    <tr>\n",
       "      <th>23</th>\n",
       "      <td>2024-03</td>\n",
       "      <td>4</td>\n",
       "    </tr>\n",
       "    <tr>\n",
       "      <th>24</th>\n",
       "      <td>2024-04</td>\n",
       "      <td>5</td>\n",
       "    </tr>\n",
       "    <tr>\n",
       "      <th>25</th>\n",
       "      <td>2024-05</td>\n",
       "      <td>5</td>\n",
       "    </tr>\n",
       "    <tr>\n",
       "      <th>26</th>\n",
       "      <td>2024-06</td>\n",
       "      <td>3</td>\n",
       "    </tr>\n",
       "    <tr>\n",
       "      <th>27</th>\n",
       "      <td>2024-07</td>\n",
       "      <td>2</td>\n",
       "    </tr>\n",
       "    <tr>\n",
       "      <th>28</th>\n",
       "      <td>2024-09</td>\n",
       "      <td>2</td>\n",
       "    </tr>\n",
       "    <tr>\n",
       "      <th>29</th>\n",
       "      <td>2024-10</td>\n",
       "      <td>6</td>\n",
       "    </tr>\n",
       "    <tr>\n",
       "      <th>30</th>\n",
       "      <td>2024-11</td>\n",
       "      <td>23</td>\n",
       "    </tr>\n",
       "    <tr>\n",
       "      <th>31</th>\n",
       "      <td>2024-12</td>\n",
       "      <td>82</td>\n",
       "    </tr>\n",
       "    <tr>\n",
       "      <th>32</th>\n",
       "      <td>2025-01</td>\n",
       "      <td>32</td>\n",
       "    </tr>\n",
       "    <tr>\n",
       "      <th>33</th>\n",
       "      <td>2025-02</td>\n",
       "      <td>23</td>\n",
       "    </tr>\n",
       "  </tbody>\n",
       "</table>\n",
       "</div>"
      ],
      "text/plain": [
       "    yyyy_mm  Flock_Count\n",
       "0   2022-02            6\n",
       "1   2022-03           31\n",
       "2   2022-04           41\n",
       "3   2022-05           30\n",
       "4   2022-06            4\n",
       "5   2022-07            2\n",
       "6   2022-08            8\n",
       "7   2022-09           33\n",
       "8   2022-10           47\n",
       "9   2022-11           41\n",
       "10  2022-12           45\n",
       "11  2023-01            6\n",
       "12  2023-02           11\n",
       "13  2023-03           17\n",
       "14  2023-04            8\n",
       "15  2023-05            4\n",
       "16  2023-08            1\n",
       "17  2023-09            1\n",
       "18  2023-10           15\n",
       "19  2023-11           47\n",
       "20  2023-12           44\n",
       "21  2024-01            6\n",
       "22  2024-02           13\n",
       "23  2024-03            4\n",
       "24  2024-04            5\n",
       "25  2024-05            5\n",
       "26  2024-06            3\n",
       "27  2024-07            2\n",
       "28  2024-09            2\n",
       "29  2024-10            6\n",
       "30  2024-11           23\n",
       "31  2024-12           82\n",
       "32  2025-01           32\n",
       "33  2025-02           23"
      ]
     },
     "execution_count": 16,
     "metadata": {},
     "output_type": "execute_result"
    }
   ],
   "source": [
    "bird_plot = bird.groupby('yyyy_mm').size().reset_index(name='Flock_Count')\n",
    "bird_plot"
   ]
  },
  {
   "cell_type": "code",
   "execution_count": 17,
   "metadata": {},
   "outputs": [
    {
     "data": {
      "image/png": "[encoded data removed]",
      "text/plain": [
       "<Figure size 640x480 with 1 Axes>"
      ]
     },
     "metadata": {},
     "output_type": "display_data"
    }
   ],
   "source": [
    "plt.bar(bird_plot['yyyy_mm'], bird_plot['Flock_Count'])\n",
    "tick_positions = bird_plot['yyyy_mm'][::6]\n",
    "plt.xticks(tick_positions, rotation=45)\n",
    "plt.xlabel('Date (YYYY-MM)')\n",
    "plt.ylabel('Number of Flocks Impacted')\n",
    "plt.show()"
   ]
  },
  {
   "cell_type": "code",
   "execution_count": 18,
   "metadata": {},
   "outputs": [
    {
     "data": {
      "text/html": [
       "<div>\n",
       "<style scoped>\n",
       "    .dataframe tbody tr th:only-of-type {\n",
       "        vertical-align: middle;\n",
       "    }\n",
       "\n",
       "    .dataframe tbody tr th {\n",
       "        vertical-align: top;\n",
       "    }\n",
       "\n",
       "    .dataframe thead th {\n",
       "        text-align: right;\n",
       "    }\n",
       "</style>\n",
       "<table border=\"1\" class=\"dataframe\">\n",
       "  <thead>\n",
       "    <tr style=\"text-align: right;\">\n",
       "      <th></th>\n",
       "      <th>yyyy_mm</th>\n",
       "      <th>Total_Flock_Size</th>\n",
       "    </tr>\n",
       "  </thead>\n",
       "  <tbody>\n",
       "    <tr>\n",
       "      <th>0</th>\n",
       "      <td>2022-02</td>\n",
       "      <td>348550</td>\n",
       "    </tr>\n",
       "    <tr>\n",
       "      <th>1</th>\n",
       "      <td>2022-03</td>\n",
       "      <td>9988239</td>\n",
       "    </tr>\n",
       "    <tr>\n",
       "      <th>2</th>\n",
       "      <td>2022-04</td>\n",
       "      <td>863435</td>\n",
       "    </tr>\n",
       "    <tr>\n",
       "      <th>3</th>\n",
       "      <td>2022-05</td>\n",
       "      <td>189266</td>\n",
       "    </tr>\n",
       "    <tr>\n",
       "      <th>4</th>\n",
       "      <td>2022-06</td>\n",
       "      <td>27343</td>\n",
       "    </tr>\n",
       "  </tbody>\n",
       "</table>\n",
       "</div>"
      ],
      "text/plain": [
       "   yyyy_mm  Total_Flock_Size\n",
       "0  2022-02            348550\n",
       "1  2022-03           9988239\n",
       "2  2022-04            863435\n",
       "3  2022-05            189266\n",
       "4  2022-06             27343"
      ]
     },
     "execution_count": 18,
     "metadata": {},
     "output_type": "execute_result"
    }
   ],
   "source": [
    "flocks_impacted_size = bird.groupby('yyyy_mm')['Flock Size'].sum().reset_index(name='Total_Flock_Size')\n",
    "flocks_impacted_size.head()"
   ]
  },
  {
   "cell_type": "code",
   "execution_count": 19,
   "metadata": {},
   "outputs": [
    {
     "data": {
      "image/png": "[encoded data removed]",
      "text/plain": [
       "<Figure size 640x480 with 1 Axes>"
      ]
     },
     "metadata": {},
     "output_type": "display_data"
    }
   ],
   "source": [
    "plt.bar(flocks_impacted_size['yyyy_mm'], flocks_impacted_size['Total_Flock_Size'])\n",
    "tick_positions = flocks_impacted_size['yyyy_mm'][::6]\n",
    "plt.xticks(tick_positions, rotation=45)\n",
    "plt.xlabel('Date (YYYY-MM)')\n",
    "plt.ylabel('Number of Birds Impacted (in 10\\'s of millions)')\n",
    "plt.show()"
   ]
  },
  {
   "cell_type": "code",
   "execution_count": 20,
   "metadata": {},
   "outputs": [
    {
     "data": {
      "text/html": [
       "<div>\n",
       "<style scoped>\n",
       "    .dataframe tbody tr th:only-of-type {\n",
       "        vertical-align: middle;\n",
       "    }\n",
       "\n",
       "    .dataframe tbody tr th {\n",
       "        vertical-align: top;\n",
       "    }\n",
       "\n",
       "    .dataframe thead th {\n",
       "        text-align: right;\n",
       "    }\n",
       "</style>\n",
       "<table border=\"1\" class=\"dataframe\">\n",
       "  <thead>\n",
       "    <tr style=\"text-align: right;\">\n",
       "      <th></th>\n",
       "      <th>yyyy_mm</th>\n",
       "      <th>People_Count</th>\n",
       "    </tr>\n",
       "  </thead>\n",
       "  <tbody>\n",
       "    <tr>\n",
       "      <th>0</th>\n",
       "      <td>1997-01</td>\n",
       "      <td>54</td>\n",
       "    </tr>\n",
       "    <tr>\n",
       "      <th>1</th>\n",
       "      <td>1998-01</td>\n",
       "      <td>0</td>\n",
       "    </tr>\n",
       "    <tr>\n",
       "      <th>2</th>\n",
       "      <td>1999-01</td>\n",
       "      <td>0</td>\n",
       "    </tr>\n",
       "    <tr>\n",
       "      <th>3</th>\n",
       "      <td>2000-01</td>\n",
       "      <td>0</td>\n",
       "    </tr>\n",
       "    <tr>\n",
       "      <th>4</th>\n",
       "      <td>2001-01</td>\n",
       "      <td>0</td>\n",
       "    </tr>\n",
       "  </tbody>\n",
       "</table>\n",
       "</div>"
      ],
      "text/plain": [
       "   yyyy_mm  People_Count\n",
       "0  1997-01            54\n",
       "1  1998-01             0\n",
       "2  1999-01             0\n",
       "3  2000-01             0\n",
       "4  2001-01             0"
      ]
     },
     "execution_count": 20,
     "metadata": {},
     "output_type": "execute_result"
    }
   ],
   "source": [
    "people_impacted = human.groupby('yyyy_mm')['Human cases with highly pathogenic avian influenza A/H5N1 (monthly)'].sum().reset_index(name='People_Count')\n",
    "people_impacted.head()"
   ]
  },
  {
   "cell_type": "code",
   "execution_count": 21,
   "metadata": {},
   "outputs": [
    {
     "data": {
      "image/png": "[encoded data removed]",
      "text/plain": [
       "<Figure size 640x480 with 1 Axes>"
      ]
     },
     "metadata": {},
     "output_type": "display_data"
    }
   ],
   "source": [
    "plt.bar(people_impacted['yyyy_mm'], people_impacted['People_Count'])\n",
    "tick_positions = people_impacted['yyyy_mm'][::3]\n",
    "plt.xticks(tick_positions, rotation=45)\n",
    "plt.xlabel('Date (YYYY-MM)')\n",
    "plt.ylabel('Number of Humans Impacted')\n",
    "plt.show()"
   ]
  },
  {
   "cell_type": "code",
   "execution_count": null,
   "metadata": {},
   "outputs": [],
   "source": []
  }
 ],
 "metadata": {
  "kernelspec": {
   "display_name": "base",
   "language": "python",
   "name": "python3"
  },
  "language_info": {
   "codemirror_mode": {
    "name": "ipython",
    "version": 3
   },
   "file_extension": ".py",
   "mimetype": "text/x-python",
   "name": "python",
   "nbconvert_exporter": "python",
   "pygments_lexer": "ipython3",
   "version": "3.11.5"
  }
 },
 "nbformat": 4,
 "nbformat_minor": 2
}
