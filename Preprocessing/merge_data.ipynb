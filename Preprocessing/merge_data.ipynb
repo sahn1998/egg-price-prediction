{
 "cells": [
  {
   "cell_type": "markdown",
   "metadata": {},
   "source": [
    "# Data Preprocessing\n",
    "\n",
    "This preprocessing file should be utilized to join the data that we have by date.\n",
    "- The date column should be named \"date\"\n",
    "- The date column should have the format in \"yyyy-mm\""
   ]
  },
  {
   "cell_type": "markdown",
   "metadata": {},
   "source": [
    "# Import Files"
   ]
  },
  {
   "cell_type": "code",
   "execution_count": null,
   "metadata": {},
   "outputs": [],
   "source": [
    "import os\n",
    "\n",
    "import pandas as pd\n",
    "import numpy as np\n",
    "import seaborn as sns\n",
    "from matplotlib import pyplot as plt\n",
    "from pathlib import Path\n",
    "\n",
    "from datetime import datetime\n"
   ]
  },
  {
   "cell_type": "markdown",
   "metadata": {},
   "source": [
    "# Settings"
   ]
  },
  {
   "cell_type": "code",
   "execution_count": null,
   "metadata": {},
   "outputs": [],
   "source": [
    "# path to where we store our preprocessed data\n",
    "data_file_path = Path(\"../data\")\n"
   ]
  },
  {
   "cell_type": "markdown",
   "metadata": {},
   "source": [
    "# Load Files"
   ]
  },
  {
   "cell_type": "code",
   "execution_count": null,
   "metadata": {},
   "outputs": [],
   "source": [
    "# Target data\n",
    "df_egg_price = pd.read_csv(f\"{data_file_path}/date_organized_egg_price._for_merge.csv\", index_col=0)\n",
    "# Features data\n",
    "df_us_disasters = pd.read_csv(f\"{data_file_path}/df_us_disasters_for_merge.csv\", index_col=0)\n",
    "df_us_diseases = pd.read_csv(f\"{data_file_path}/df_us_diseases_for_merge.csv\", index_col=0)\n",
    "df_us_covid = pd.read_csv(f\"{data_file_path}/df_us_covid_for_merge.csv\", index_col=0)\n",
    "df_us_weather = pd.read_csv(f\"{data_file_path}/df_us_weather_for_merge.csv\", index_col=0)\n",
    "df_us_avian_flu_bird = pd.read_csv(f\"{data_file_path}/df_avian_flu_bird_for_merge.csv\", index_col=0)\n",
    "df_us_avian_flu_human = pd.read_csv(f\"{data_file_path}/df_avian_flu_human_for_merge.csv\", index_col=0)\n"
   ]
  },
  {
   "cell_type": "code",
   "execution_count": null,
   "metadata": {},
   "outputs": [],
   "source": [
    "df_us_avian_flu_bird = df_us_avian_flu_bird[['yyyy_mm', 'Flock_Count', 'Total_Flock_Size']].copy().rename(columns = {'yyyy_mm': 'date', 'Flock_Count': 'infected_flock_cnt', 'Total_Flock_Size': 'infected_bird_cnt'})\n",
    "df_us_avian_flu_bird.drop_duplicates(inplace=True)"
   ]
  },
  {
   "cell_type": "code",
   "execution_count": null,
   "metadata": {},
   "outputs": [],
   "source": [
    "df_us_avian_flu_human = df_us_avian_flu_human.rename(columns={'yyyy_mm': 'date', 'People_Count': 'infected_h5n1_people_cnt'})"
   ]
  },
  {
   "cell_type": "code",
   "execution_count": null,
   "metadata": {},
   "outputs": [],
   "source": [
    "df_us_disasters.drop_duplicates()"
   ]
  },
  {
   "cell_type": "code",
   "execution_count": null,
   "metadata": {},
   "outputs": [],
   "source": [
    "df_full_data = df_egg_price.copy()\n",
    "# Merge dataset\n",
    "df_full_data = df_full_data.merge(df_us_disasters, on='date', how='left').rename(columns={'adjusted_deaths': 'disaster_deaths_adjusted', 'log_cpi_adjusted_cost': 'disaster_cost_adjusted', 'log_unadjusted_cost': 'disaster_cost_unadjusted'})\n",
    "df_full_data = df_full_data.merge(df_us_diseases, on='date', how='left').rename(columns={'outbreaks_per_million': 'human_outbreaks_per_million', 'illnesses_per_million': 'human_illnesses_per_million'})\n",
    "df_full_data = df_full_data.merge(df_us_covid, on='date', how='left').rename(columns={'hospitalized_per_million': 'covid_hospitalization_per_million'})\n",
    "df_full_data = df_full_data.merge(df_us_weather, on='date', how='left')\n",
    "df_full_data = df_full_data.merge(df_us_avian_flu_bird, on='date', how='left')\n",
    "df_full_data = df_full_data.merge(df_us_avian_flu_human, on='date', how='left')"
   ]
  },
  {
   "cell_type": "code",
   "execution_count": null,
   "metadata": {},
   "outputs": [],
   "source": [
    "# Create a new target variable for price changes\n",
    "df_full_data['change_in_price_per_dozen'] = df_full_data['price_per_dozen'].diff()"
   ]
  },
  {
   "cell_type": "code",
   "execution_count": null,
   "metadata": {},
   "outputs": [],
   "source": [
    "df_full_data.fillna(0, inplace=True)"
   ]
  },
  {
   "cell_type": "code",
   "execution_count": null,
   "metadata": {},
   "outputs": [],
   "source": [
    "df_full_data.columns"
   ]
  },
  {
   "cell_type": "code",
   "execution_count": null,
   "metadata": {},
   "outputs": [],
   "source": [
    "df_float_data = df_full_data[['price_per_dozen', 'change_in_price_per_dozen', 'disaster_deaths_adjusted', 'disaster_cost_adjusted', \n",
    "                               'human_outbreaks_per_million', 'human_illnesses_per_million', \n",
    "                              'covid_hospitalization_per_million', 'infected_flock_cnt', 'infected_bird_cnt', 'infected_h5n1_people_cnt', 'temp_overall']].copy()"
   ]
  },
  {
   "cell_type": "code",
   "execution_count": null,
   "metadata": {},
   "outputs": [],
   "source": [
    "target_column = 'price_per_dozen'\n",
    "other_columns = list(df_float_data.columns)\n",
    "other_columns.remove('price_per_dozen')\n",
    "other_columns.remove('change_in_price_per_dozen')\n",
    "fig, ax = plt.subplots(1, 9, figsize=(40, 5))\n",
    "for i, column in enumerate(other_columns):\n",
    "    if column != target_column:  # Avoid plotting the target column against itself\n",
    "        ax[i].scatter(df_float_data[target_column], df_float_data[column])\n",
    "        ax[i].set_title(f'{target_column} vs \\n{column}')\n",
    "        ax[i].set_xlabel(target_column)\n",
    "        ax[i].set_ylabel(column)\n",
    "plt.show()"
   ]
  },
  {
   "cell_type": "code",
   "execution_count": null,
   "metadata": {},
   "outputs": [],
   "source": [
    "target_column = 'change_in_price_per_dozen'\n",
    "other_columns = list(df_float_data.columns)\n",
    "other_columns.remove('price_per_dozen')\n",
    "other_columns.remove('change_in_price_per_dozen')\n",
    "fig, ax = plt.subplots(1, 9, figsize=(40, 5))\n",
    "for i, column in enumerate(other_columns):\n",
    "    if column != target_column:  # Avoid plotting the target column against itself\n",
    "        ax[i].scatter(df_float_data[target_column], df_float_data[column])\n",
    "        ax[i].set_title(f'{target_column} vs \\n{column}')\n",
    "        ax[i].set_xlabel(target_column)\n",
    "        ax[i].set_ylabel(column)\n",
    "plt.show()"
   ]
  },
  {
   "cell_type": "code",
   "execution_count": null,
   "metadata": {},
   "outputs": [],
   "source": [
    "# Save full data\n",
    "df_full_data.to_csv(f\"{data_file_path}/merged_data.csv\")"
   ]
  },
  {
   "cell_type": "code",
   "execution_count": null,
   "metadata": {},
   "outputs": [],
   "source": [
    "df_full_data.shape"
   ]
  },
  {
   "cell_type": "code",
   "execution_count": null,
   "metadata": {},
   "outputs": [],
   "source": [
    "df_egg_price.shape"
   ]
  },
  {
   "cell_type": "code",
   "execution_count": null,
   "metadata": {},
   "outputs": [],
   "source": []
  }
 ],
 "metadata": {
  "kernelspec": {
   "display_name": "base",
   "language": "python",
   "name": "python3"
  },
  "language_info": {
   "codemirror_mode": {
    "name": "ipython",
    "version": 3
   },
   "file_extension": ".py",
   "mimetype": "text/x-python",
   "name": "python",
   "nbconvert_exporter": "python",
   "pygments_lexer": "ipython3",
   "version": "3.11.7"
  }
 },
 "nbformat": 4,
 "nbformat_minor": 2
}
