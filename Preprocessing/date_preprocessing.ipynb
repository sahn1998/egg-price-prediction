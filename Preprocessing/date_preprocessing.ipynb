{
 "cells": [
  {
   "cell_type": "markdown",
   "metadata": {},
   "source": [
    "# Date Preprocessing\n",
    "\n",
    "This preprocessing file should be utilized to format the data to a format that can be joined by date.\n",
    "- The date column should be named \"date\"\n",
    "- The date column should have the format in \"yyyy-mm\"\n",
    "\n",
    "### Convention\n",
    "- We keep this separated from the final pre-processed files. \n",
    "- We save the date preprocessed files as a csv in the data folder so we don't have to call Redshift (too expensive)"
   ]
  },
  {
   "cell_type": "markdown",
   "metadata": {},
   "source": [
    "# Import Files"
   ]
  },
  {
   "cell_type": "code",
<<<<<<< HEAD
   "execution_count": 1,
=======
   "execution_count": null,
>>>>>>> 62dca90477d3ce0e66a2eb41921c2f1dc102d426
   "metadata": {},
   "outputs": [],
   "source": [
    "import os\n",
    "\n",
    "import pandas as pd\n",
    "import numpy as np\n",
    "import seaborn as sns\n",
    "from matplotlib import pyplot as plt\n",
    "from pathlib import Path\n",
    "\n",
    "from datetime import datetime\n",
    "\n",
    "import redshift_connector"
   ]
  },
  {
   "cell_type": "markdown",
   "metadata": {},
   "source": [
    "# Settings"
   ]
  },
  {
   "cell_type": "code",
<<<<<<< HEAD
   "execution_count": 6,
=======
   "execution_count": 4,
>>>>>>> 62dca90477d3ce0e66a2eb41921c2f1dc102d426
   "metadata": {},
   "outputs": [],
   "source": [
    "# path to where we store our preprocessed data\n",
    "data_file_path = Path(\"../data\")"
   ]
  },
  {
   "cell_type": "markdown",
   "metadata": {},
   "source": [
    "# Redshift Connection"
   ]
  },
  {
   "cell_type": "code",
<<<<<<< HEAD
   "execution_count": 2,
=======
   "execution_count": null,
>>>>>>> 62dca90477d3ce0e66a2eb41921c2f1dc102d426
   "metadata": {},
   "outputs": [],
   "source": [
    "conn = redshift_connector.connect(\n",
    "    host='cspc-workgroup.783764604578.us-west-2.redshift-serverless.amazonaws.com',\n",
    "    database='cspc5071-dsa',\n",
    "    port=5439,\n",
    "    user='python_user',\n",
    "    password='Database123!' # Not best practice but who cares :))\n",
    " )\n",
    "cursor = conn.cursor()\n",
    "\n",
    "# Query to get the list of tables in the specified schema\n",
    "query = f\"\"\"\n",
    "SELECT table_name\n",
    "FROM information_schema.tables\n",
    "WHERE table_schema = 'public'\n",
    "AND table_type = 'BASE TABLE';\n",
    "\"\"\"\n",
    "\n",
    "cursor.execute(query)\n",
    "tables = cursor.fetchall()\n",
    "\n",
    "print(f\"Tables in schema public:\")\n",
    "for table in tables:\n",
    "    print(table[0]) # These are all the data we have in AWS redshift."
   ]
  },
  {
   "cell_type": "code",
<<<<<<< HEAD
   "execution_count": 3,
=======
   "execution_count": 6,
>>>>>>> 62dca90477d3ce0e66a2eb41921c2f1dc102d426
   "metadata": {},
   "outputs": [],
   "source": [
    "# Function to query to redshift: Returns a dataframe \n",
    "def querying_to_redshift(query, cursor):\n",
    "    cursor.execute(query)\n",
    "    df : pd.DataFrame = cursor.fetch_dataframe()\n",
    "\n",
    "    return df"
   ]
  },
  {
   "cell_type": "markdown",
   "metadata": {},
   "source": [
    "# Date Preprocessing for Natural Disasters"
   ]
  },
  {
   "cell_type": "code",
   "execution_count": 4,
   "metadata": {},
   "outputs": [],
   "source": [
    "def expand_date_range(row):\n",
    "    date_range = pd.date_range(row[\"start_date\"], row[\"end_date\"], freq=\"MS\").strftime(\"%Y-%m\")\n",
    "    num_months = len(date_range)\n",
    "\n",
    "    return pd.DataFrame({\n",
    "        \"name\": row[\"name\"],\n",
    "        \"disaster_type\": row[\"disaster_type\"],\n",
    "        \"date\": date_range,\n",
    "        \"cpi_adjusted_cost\": row[\"cpi_adjsuted_cost\"] / num_months,\n",
    "        \"unadjusted_cost\": row[\"unadjusted_cost\"] / num_months,\n",
    "        \"deaths\": row[\"deaths\"] / num_months\n",
    "    })"
   ]
  },
  {
   "cell_type": "code",
   "execution_count": 7,
   "metadata": {},
   "outputs": [],
   "source": [
    "query = \"\"\"SELECT * FROM \"cspc5071-dsa\".\"public\".\"us_national_disaster\";\"\"\"\n",
    "df_us_disasters = querying_to_redshift(query, cursor)\n",
    "\n",
    "copied_df = df_us_disasters.copy() # creating a deep copy so I don't have to fetch the database all the time\n",
    "\n",
    "# Changing date in format of 'YYYYMMDD' to 'YYYY-MM'\n",
    "df_us_disasters['start_date'] = pd.to_datetime(df_us_disasters['start_date'].astype(str), format='%Y%m%d').dt.strftime('%Y-%m')\n",
    "df_us_disasters['end_date'] = pd.to_datetime(df_us_disasters['end_date'].astype(str), format='%Y%m%d').dt.strftime('%Y-%m')\n",
    "\n",
    "df_us_disasters = pd.concat(df_us_disasters.apply(expand_date_range, axis=1).to_list(), ignore_index=True)\n",
    "\n",
    "df_us_disasters.to_csv(f\"{data_file_path}/date_organized_us_disasters.csv\")  # save data"
   ]
  },
  {
   "cell_type": "markdown",
   "metadata": {},
   "source": [
<<<<<<< HEAD
    "# Date Preprocessing for Avian Flu in Birds and Humans"
=======
    "# Date Preprocessing for US Disease Outbreak"
   ]
  },
  {
   "cell_type": "code",
   "execution_count": null,
   "metadata": {},
   "outputs": [],
   "source": [
    "query = \"\"\"SELECT year, month, primary_mode, etiology, illnesses, \n",
    "food_vehicle, animal_type FROM \"cspc5071-dsa\".\"public\".\"us_national_outbreaks\";\n",
    "\"\"\"\n",
    "df_us_outbreaks = querying_to_redshift(query, cursor)"
   ]
  },
  {
   "cell_type": "code",
   "execution_count": 9,
   "metadata": {},
   "outputs": [],
   "source": [
    "df_us_outbreaks['date'] = df_us_outbreaks['year'].astype(str) + '-' + df_us_outbreaks['month'].astype(str)\n",
    "df_us_outbreaks['datetime'] = pd.to_datetime(df_us_outbreaks['date'], format='%Y-%m', errors='coerce')\n",
    "df_us_outbreaks['date'] = df_us_outbreaks['datetime'].dt.strftime('%Y-%m')"
>>>>>>> 62dca90477d3ce0e66a2eb41921c2f1dc102d426
   ]
  },
  {
   "cell_type": "code",
   "execution_count": 10,
   "metadata": {},
<<<<<<< HEAD
   "outputs": [
    {
     "data": {
      "text/html": [
       "<div>\n",
       "<style scoped>\n",
       "    .dataframe tbody tr th:only-of-type {\n",
       "        vertical-align: middle;\n",
       "    }\n",
       "\n",
       "    .dataframe tbody tr th {\n",
       "        vertical-align: top;\n",
       "    }\n",
       "\n",
       "    .dataframe thead th {\n",
       "        text-align: right;\n",
       "    }\n",
       "</style>\n",
       "<table border=\"1\" class=\"dataframe\">\n",
       "  <thead>\n",
       "    <tr style=\"text-align: right;\">\n",
       "      <th></th>\n",
       "      <th>FullGeoName</th>\n",
       "      <th>FIPS Codes</th>\n",
       "      <th>County Name</th>\n",
       "      <th>State</th>\n",
       "      <th>Outbreak Date</th>\n",
       "      <th>Flock Type</th>\n",
       "      <th>Flock Size</th>\n",
       "      <th>State Count</th>\n",
       "      <th>Outbreaks</th>\n",
       "      <th>Counties</th>\n",
       "    </tr>\n",
       "  </thead>\n",
       "  <tbody>\n",
       "    <tr>\n",
       "      <th>0</th>\n",
       "      <td>MI, Jackson</td>\n",
       "      <td>26075</td>\n",
       "      <td>Jackson</td>\n",
       "      <td>Michigan</td>\n",
       "      <td>12-31-2024</td>\n",
       "      <td>WOAH Non-Poultry</td>\n",
       "      <td>9</td>\n",
       "      <td>1</td>\n",
       "      <td>1</td>\n",
       "      <td>1</td>\n",
       "    </tr>\n",
       "    <tr>\n",
       "      <th>1</th>\n",
       "      <td>CA, Riverside</td>\n",
       "      <td>6065</td>\n",
       "      <td>Riverside</td>\n",
       "      <td>California</td>\n",
       "      <td>12-31-2024</td>\n",
       "      <td>Commercial Table Egg Layer; WOAH Non-Poultry; ...</td>\n",
       "      <td>1503370</td>\n",
       "      <td>1</td>\n",
       "      <td>5</td>\n",
       "      <td>1</td>\n",
       "    </tr>\n",
       "    <tr>\n",
       "      <th>2</th>\n",
       "      <td>CA, Butte</td>\n",
       "      <td>6007</td>\n",
       "      <td>Butte</td>\n",
       "      <td>California</td>\n",
       "      <td>12-31-2024</td>\n",
       "      <td>WOAH Non-Poultry; Commercial Raised for Releas...</td>\n",
       "      <td>45890</td>\n",
       "      <td>0</td>\n",
       "      <td>4</td>\n",
       "      <td>1</td>\n",
       "    </tr>\n",
       "    <tr>\n",
       "      <th>3</th>\n",
       "      <td>SD, Miner</td>\n",
       "      <td>46097</td>\n",
       "      <td>Miner</td>\n",
       "      <td>South Dakota</td>\n",
       "      <td>12-31-2024</td>\n",
       "      <td>WOAH Poultry</td>\n",
       "      <td>1500</td>\n",
       "      <td>1</td>\n",
       "      <td>1</td>\n",
       "      <td>1</td>\n",
       "    </tr>\n",
       "    <tr>\n",
       "      <th>4</th>\n",
       "      <td>MI, Ottawa</td>\n",
       "      <td>26139</td>\n",
       "      <td>Ottawa</td>\n",
       "      <td>Michigan</td>\n",
       "      <td>12-31-2024</td>\n",
       "      <td>Commercial Turkey Meat Bird</td>\n",
       "      <td>447700</td>\n",
       "      <td>0</td>\n",
       "      <td>7</td>\n",
       "      <td>1</td>\n",
       "    </tr>\n",
       "  </tbody>\n",
       "</table>\n",
       "</div>"
      ],
      "text/plain": [
       "     FullGeoName  FIPS Codes County Name         State Outbreak Date  \\\n",
       "0    MI, Jackson       26075     Jackson      Michigan    12-31-2024   \n",
       "1  CA, Riverside        6065   Riverside    California    12-31-2024   \n",
       "2      CA, Butte        6007       Butte    California    12-31-2024   \n",
       "3      SD, Miner       46097       Miner  South Dakota    12-31-2024   \n",
       "4     MI, Ottawa       26139      Ottawa      Michigan    12-31-2024   \n",
       "\n",
       "                                          Flock Type  Flock Size  State Count  \\\n",
       "0                                   WOAH Non-Poultry           9            1   \n",
       "1  Commercial Table Egg Layer; WOAH Non-Poultry; ...     1503370            1   \n",
       "2  WOAH Non-Poultry; Commercial Raised for Releas...       45890            0   \n",
       "3                                       WOAH Poultry        1500            1   \n",
       "4                        Commercial Turkey Meat Bird      447700            0   \n",
       "\n",
       "   Outbreaks  Counties  \n",
       "0          1         1  \n",
       "1          5         1  \n",
       "2          4         1  \n",
       "3          1         1  \n",
       "4          7         1  "
      ]
     },
     "execution_count": 10,
     "metadata": {},
     "output_type": "execute_result"
    }
   ],
   "source": [
    "bird = pd.read_csv(\"../data/data-table.csv\")\n",
    "bird.head()"
=======
   "outputs": [],
   "source": [
    "df_us_outbreaks_grouped = df_us_outbreaks.groupby('date', as_index=False).agg(\n",
    "    us_human_outbreaks_cnt = pd.NamedAgg(column='illnesses', aggfunc='count'),\n",
    "    us_human_illnesses_cnt = pd.NamedAgg(column='illnesses', aggfunc='sum')\n",
    ")"
>>>>>>> 62dca90477d3ce0e66a2eb41921c2f1dc102d426
   ]
  },
  {
   "cell_type": "code",
<<<<<<< HEAD
   "execution_count": 11,
   "metadata": {},
   "outputs": [],
   "source": [
    "bird['Outbreak Date'] = pd.to_datetime(bird['Outbreak Date'], format='%m-%d-%Y')\n",
    "bird['yyyy_mm'] = bird['Outbreak Date'].dt.strftime('%Y-%m')"
   ]
  },
  {
   "cell_type": "code",
   "execution_count": 12,
   "metadata": {},
   "outputs": [
    {
     "data": {
      "text/html": [
       "<div>\n",
       "<style scoped>\n",
       "    .dataframe tbody tr th:only-of-type {\n",
       "        vertical-align: middle;\n",
       "    }\n",
       "\n",
       "    .dataframe tbody tr th {\n",
       "        vertical-align: top;\n",
       "    }\n",
       "\n",
       "    .dataframe thead th {\n",
       "        text-align: right;\n",
       "    }\n",
       "</style>\n",
       "<table border=\"1\" class=\"dataframe\">\n",
       "  <thead>\n",
       "    <tr style=\"text-align: right;\">\n",
       "      <th></th>\n",
       "      <th>FullGeoName</th>\n",
       "      <th>FIPS Codes</th>\n",
       "      <th>County Name</th>\n",
       "      <th>State</th>\n",
       "      <th>Outbreak Date</th>\n",
       "      <th>Flock Type</th>\n",
       "      <th>Flock Size</th>\n",
       "      <th>State Count</th>\n",
       "      <th>Outbreaks</th>\n",
       "      <th>Counties</th>\n",
       "      <th>yyyy_mm</th>\n",
       "    </tr>\n",
       "  </thead>\n",
       "  <tbody>\n",
       "    <tr>\n",
       "      <th>0</th>\n",
       "      <td>MI, Jackson</td>\n",
       "      <td>26075</td>\n",
       "      <td>Jackson</td>\n",
       "      <td>Michigan</td>\n",
       "      <td>2024-12-31</td>\n",
       "      <td>WOAH Non-Poultry</td>\n",
       "      <td>9</td>\n",
       "      <td>1</td>\n",
       "      <td>1</td>\n",
       "      <td>1</td>\n",
       "      <td>2024-12</td>\n",
       "    </tr>\n",
       "    <tr>\n",
       "      <th>1</th>\n",
       "      <td>CA, Riverside</td>\n",
       "      <td>6065</td>\n",
       "      <td>Riverside</td>\n",
       "      <td>California</td>\n",
       "      <td>2024-12-31</td>\n",
       "      <td>Commercial Table Egg Layer; WOAH Non-Poultry; ...</td>\n",
       "      <td>1503370</td>\n",
       "      <td>1</td>\n",
       "      <td>5</td>\n",
       "      <td>1</td>\n",
       "      <td>2024-12</td>\n",
       "    </tr>\n",
       "    <tr>\n",
       "      <th>2</th>\n",
       "      <td>CA, Butte</td>\n",
       "      <td>6007</td>\n",
       "      <td>Butte</td>\n",
       "      <td>California</td>\n",
       "      <td>2024-12-31</td>\n",
       "      <td>WOAH Non-Poultry; Commercial Raised for Releas...</td>\n",
       "      <td>45890</td>\n",
       "      <td>0</td>\n",
       "      <td>4</td>\n",
       "      <td>1</td>\n",
       "      <td>2024-12</td>\n",
       "    </tr>\n",
       "    <tr>\n",
       "      <th>3</th>\n",
       "      <td>SD, Miner</td>\n",
       "      <td>46097</td>\n",
       "      <td>Miner</td>\n",
       "      <td>South Dakota</td>\n",
       "      <td>2024-12-31</td>\n",
       "      <td>WOAH Poultry</td>\n",
       "      <td>1500</td>\n",
       "      <td>1</td>\n",
       "      <td>1</td>\n",
       "      <td>1</td>\n",
       "      <td>2024-12</td>\n",
       "    </tr>\n",
       "    <tr>\n",
       "      <th>4</th>\n",
       "      <td>MI, Ottawa</td>\n",
       "      <td>26139</td>\n",
       "      <td>Ottawa</td>\n",
       "      <td>Michigan</td>\n",
       "      <td>2024-12-31</td>\n",
       "      <td>Commercial Turkey Meat Bird</td>\n",
       "      <td>447700</td>\n",
       "      <td>0</td>\n",
       "      <td>7</td>\n",
       "      <td>1</td>\n",
       "      <td>2024-12</td>\n",
       "    </tr>\n",
       "  </tbody>\n",
       "</table>\n",
       "</div>"
      ],
      "text/plain": [
       "     FullGeoName  FIPS Codes County Name         State Outbreak Date  \\\n",
       "0    MI, Jackson       26075     Jackson      Michigan    2024-12-31   \n",
       "1  CA, Riverside        6065   Riverside    California    2024-12-31   \n",
       "2      CA, Butte        6007       Butte    California    2024-12-31   \n",
       "3      SD, Miner       46097       Miner  South Dakota    2024-12-31   \n",
       "4     MI, Ottawa       26139      Ottawa      Michigan    2024-12-31   \n",
       "\n",
       "                                          Flock Type  Flock Size  State Count  \\\n",
       "0                                   WOAH Non-Poultry           9            1   \n",
       "1  Commercial Table Egg Layer; WOAH Non-Poultry; ...     1503370            1   \n",
       "2  WOAH Non-Poultry; Commercial Raised for Releas...       45890            0   \n",
       "3                                       WOAH Poultry        1500            1   \n",
       "4                        Commercial Turkey Meat Bird      447700            0   \n",
       "\n",
       "   Outbreaks  Counties  yyyy_mm  \n",
       "0          1         1  2024-12  \n",
       "1          5         1  2024-12  \n",
       "2          4         1  2024-12  \n",
       "3          1         1  2024-12  \n",
       "4          7         1  2024-12  "
      ]
     },
     "execution_count": 12,
     "metadata": {},
     "output_type": "execute_result"
    }
   ],
   "source": [
    "bird.head()"
=======
   "execution_count": null,
   "metadata": {},
   "outputs": [],
   "source": [
    "df_us_outbreaks_grouped.to_csv(f\"{data_file_path}/date_organized_us_diseases.csv\")"
   ]
  },
  {
   "cell_type": "markdown",
   "metadata": {},
   "source": [
    "# Date Preprocessing for Population Data"
>>>>>>> 62dca90477d3ce0e66a2eb41921c2f1dc102d426
   ]
  },
  {
   "cell_type": "code",
   "execution_count": 13,
   "metadata": {},
<<<<<<< HEAD
   "outputs": [
    {
     "data": {
      "text/html": [
       "<div>\n",
       "<style scoped>\n",
       "    .dataframe tbody tr th:only-of-type {\n",
       "        vertical-align: middle;\n",
       "    }\n",
       "\n",
       "    .dataframe tbody tr th {\n",
       "        vertical-align: top;\n",
       "    }\n",
       "\n",
       "    .dataframe thead th {\n",
       "        text-align: right;\n",
       "    }\n",
       "</style>\n",
       "<table border=\"1\" class=\"dataframe\">\n",
       "  <thead>\n",
       "    <tr style=\"text-align: right;\">\n",
       "      <th></th>\n",
       "      <th>Entity</th>\n",
       "      <th>Code</th>\n",
       "      <th>Day</th>\n",
       "      <th>Human cases with highly pathogenic avian influenza A/H5N1 (monthly)</th>\n",
       "    </tr>\n",
       "  </thead>\n",
       "  <tbody>\n",
       "    <tr>\n",
       "      <th>0</th>\n",
       "      <td>Africa</td>\n",
       "      <td>NaN</td>\n",
       "      <td>1997-01-01</td>\n",
       "      <td>0</td>\n",
       "    </tr>\n",
       "    <tr>\n",
       "      <th>1</th>\n",
       "      <td>Africa</td>\n",
       "      <td>NaN</td>\n",
       "      <td>1997-02-01</td>\n",
       "      <td>0</td>\n",
       "    </tr>\n",
       "    <tr>\n",
       "      <th>2</th>\n",
       "      <td>Africa</td>\n",
       "      <td>NaN</td>\n",
       "      <td>1997-03-01</td>\n",
       "      <td>0</td>\n",
       "    </tr>\n",
       "    <tr>\n",
       "      <th>3</th>\n",
       "      <td>Africa</td>\n",
       "      <td>NaN</td>\n",
       "      <td>1997-04-01</td>\n",
       "      <td>0</td>\n",
       "    </tr>\n",
       "    <tr>\n",
       "      <th>4</th>\n",
       "      <td>Africa</td>\n",
       "      <td>NaN</td>\n",
       "      <td>1997-05-01</td>\n",
       "      <td>0</td>\n",
       "    </tr>\n",
       "  </tbody>\n",
       "</table>\n",
       "</div>"
      ],
      "text/plain": [
       "   Entity Code         Day  \\\n",
       "0  Africa  NaN  1997-01-01   \n",
       "1  Africa  NaN  1997-02-01   \n",
       "2  Africa  NaN  1997-03-01   \n",
       "3  Africa  NaN  1997-04-01   \n",
       "4  Africa  NaN  1997-05-01   \n",
       "\n",
       "   Human cases with highly pathogenic avian influenza A/H5N1 (monthly)  \n",
       "0                                                  0                    \n",
       "1                                                  0                    \n",
       "2                                                  0                    \n",
       "3                                                  0                    \n",
       "4                                                  0                    "
      ]
     },
     "execution_count": 13,
     "metadata": {},
     "output_type": "execute_result"
    }
   ],
   "source": [
    "human = pd.read_csv(\"../data/h5n1-flu-reported-cases.csv\")\n",
    "human.head()"
=======
   "outputs": [],
   "source": [
    "query = \"\"\"SELECT * FROM \"cspc5071-dsa\".\"public\".\"us_population\";\n",
    "\"\"\"\n",
    "df_us_population = querying_to_redshift(query, cursor)"
>>>>>>> 62dca90477d3ce0e66a2eb41921c2f1dc102d426
   ]
  },
  {
   "cell_type": "code",
   "execution_count": 14,
   "metadata": {},
   "outputs": [],
   "source": [
<<<<<<< HEAD
    "human['Day'] = pd.to_datetime(human['Day'], format = '%Y-%d-%m')\n",
    "human['yyyy_mm'] = human['Day'].dt.strftime('%Y-%m')"
   ]
  },
  {
   "cell_type": "code",
   "execution_count": 15,
   "metadata": {},
   "outputs": [
    {
     "data": {
      "text/html": [
       "<div>\n",
       "<style scoped>\n",
       "    .dataframe tbody tr th:only-of-type {\n",
       "        vertical-align: middle;\n",
       "    }\n",
       "\n",
       "    .dataframe tbody tr th {\n",
       "        vertical-align: top;\n",
       "    }\n",
       "\n",
       "    .dataframe thead th {\n",
       "        text-align: right;\n",
       "    }\n",
       "</style>\n",
       "<table border=\"1\" class=\"dataframe\">\n",
       "  <thead>\n",
       "    <tr style=\"text-align: right;\">\n",
       "      <th></th>\n",
       "      <th>Entity</th>\n",
       "      <th>Code</th>\n",
       "      <th>Day</th>\n",
       "      <th>Human cases with highly pathogenic avian influenza A/H5N1 (monthly)</th>\n",
       "      <th>yyyy_mm</th>\n",
       "    </tr>\n",
       "  </thead>\n",
       "  <tbody>\n",
       "    <tr>\n",
       "      <th>0</th>\n",
       "      <td>Africa</td>\n",
       "      <td>NaN</td>\n",
       "      <td>1997-01-01</td>\n",
       "      <td>0</td>\n",
       "      <td>1997-01</td>\n",
       "    </tr>\n",
       "    <tr>\n",
       "      <th>1</th>\n",
       "      <td>Africa</td>\n",
       "      <td>NaN</td>\n",
       "      <td>1997-01-02</td>\n",
       "      <td>0</td>\n",
       "      <td>1997-01</td>\n",
       "    </tr>\n",
       "    <tr>\n",
       "      <th>2</th>\n",
       "      <td>Africa</td>\n",
       "      <td>NaN</td>\n",
       "      <td>1997-01-03</td>\n",
       "      <td>0</td>\n",
       "      <td>1997-01</td>\n",
       "    </tr>\n",
       "    <tr>\n",
       "      <th>3</th>\n",
       "      <td>Africa</td>\n",
       "      <td>NaN</td>\n",
       "      <td>1997-01-04</td>\n",
       "      <td>0</td>\n",
       "      <td>1997-01</td>\n",
       "    </tr>\n",
       "    <tr>\n",
       "      <th>4</th>\n",
       "      <td>Africa</td>\n",
       "      <td>NaN</td>\n",
       "      <td>1997-01-05</td>\n",
       "      <td>0</td>\n",
       "      <td>1997-01</td>\n",
       "    </tr>\n",
       "  </tbody>\n",
       "</table>\n",
       "</div>"
      ],
      "text/plain": [
       "   Entity Code        Day  \\\n",
       "0  Africa  NaN 1997-01-01   \n",
       "1  Africa  NaN 1997-01-02   \n",
       "2  Africa  NaN 1997-01-03   \n",
       "3  Africa  NaN 1997-01-04   \n",
       "4  Africa  NaN 1997-01-05   \n",
       "\n",
       "   Human cases with highly pathogenic avian influenza A/H5N1 (monthly)  \\\n",
       "0                                                  0                     \n",
       "1                                                  0                     \n",
       "2                                                  0                     \n",
       "3                                                  0                     \n",
       "4                                                  0                     \n",
       "\n",
       "   yyyy_mm  \n",
       "0  1997-01  \n",
       "1  1997-01  \n",
       "2  1997-01  \n",
       "3  1997-01  \n",
       "4  1997-01  "
      ]
     },
     "execution_count": 15,
     "metadata": {},
     "output_type": "execute_result"
    }
   ],
   "source": [
    "human.head()"
   ]
  },
  {
   "cell_type": "code",
   "execution_count": 16,
   "metadata": {},
   "outputs": [],
   "source": [
    "bird.to_csv(f\"{data_file_path}/date_organized_avian_flu_bird.csv\")\n",
    "human.to_csv(f\"{data_file_path}/date_organized_avian_flu_human.csv\")"
=======
    "df_us_population['date'] = pd.to_datetime(df_us_population['date'].astype(str), format='%Y-%m-%d').dt.strftime('%Y-%m')"
>>>>>>> 62dca90477d3ce0e66a2eb41921c2f1dc102d426
   ]
  },
  {
   "cell_type": "code",
   "execution_count": null,
   "metadata": {},
   "outputs": [],
<<<<<<< HEAD
   "source": []
=======
   "source": [
    "df_us_population.to_csv(f\"{data_file_path}/date_organized_us_population.csv\")"
   ]
  },
  {
   "cell_type": "markdown",
   "metadata": {},
   "source": [
    "# Date preprocessing for Price Data"
   ]
  },
  {
   "cell_type": "code",
   "execution_count": 17,
   "metadata": {},
   "outputs": [],
   "source": [
    "query = \"\"\"SELECT * FROM \"average_egg_price\";\"\"\"\n",
    "df_egg_price = querying_to_redshift(query, cursor)"
   ]
  },
  {
   "cell_type": "code",
   "execution_count": 18,
   "metadata": {},
   "outputs": [],
   "source": [
    "df_egg_price['date'] = pd.to_datetime(df_egg_price['observation_date']).dt.strftime('%Y-%m')"
   ]
  },
  {
   "cell_type": "code",
   "execution_count": null,
   "metadata": {},
   "outputs": [],
   "source": [
    "df_egg_price = df_egg_price[['date', 'price_per_dozen']].copy()"
   ]
  },
  {
   "cell_type": "code",
   "execution_count": null,
   "metadata": {},
   "outputs": [],
   "source": [
    "df_egg_price.to_csv(f\"{data_file_path}/date_organized_egg_price_for_merge.csv\")"
   ]
  },
  {
   "cell_type": "markdown",
   "metadata": {},
   "source": [
    "# Date preprocessing for covid-19 data"
   ]
  },
  {
   "cell_type": "code",
   "execution_count": 23,
   "metadata": {},
   "outputs": [],
   "source": [
    "query = \"\"\"SELECT * FROM \"cspc5071-dsa\".\"public\".\"covid_hospitalization\";\"\"\"\n",
    "df_covid = querying_to_redshift(query, cursor)"
   ]
  },
  {
   "cell_type": "code",
   "execution_count": 24,
   "metadata": {},
   "outputs": [],
   "source": [
    "df_covid_us = df_covid[df_covid['entity'] == 'United States'].copy()\n",
    "df_covid_us['date'] = ((pd.to_datetime(df_covid_us['day'])).dt.to_period('M')).dt.strftime('%Y-%m')"
   ]
  },
  {
   "cell_type": "code",
   "execution_count": 26,
   "metadata": {},
   "outputs": [],
   "source": [
    "df_covid_us = df_covid_us.groupby('date', as_index=False)['daily_hospital_occupancy'].mean().rename(columns={'daily_hospital_occupancy':'avg_daily_hospitalized'})"
   ]
  },
  {
   "cell_type": "code",
   "execution_count": null,
   "metadata": {},
   "outputs": [],
   "source": [
    "df_covid_us.to_csv(f\"{data_file_path}/date_organized_us_covid.csv\")"
   ]
>>>>>>> 62dca90477d3ce0e66a2eb41921c2f1dc102d426
  }
 ],
 "metadata": {
  "kernelspec": {
   "display_name": "base",
   "language": "python",
   "name": "python3"
  },
  "language_info": {
   "codemirror_mode": {
    "name": "ipython",
    "version": 3
   },
   "file_extension": ".py",
   "mimetype": "text/x-python",
   "name": "python",
   "nbconvert_exporter": "python",
   "pygments_lexer": "ipython3",
<<<<<<< HEAD
   "version": "3.11.5"
=======
   "version": "3.12.4"
>>>>>>> 62dca90477d3ce0e66a2eb41921c2f1dc102d426
  }
 },
 "nbformat": 4,
 "nbformat_minor": 2
}
