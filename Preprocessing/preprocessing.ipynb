{
 "cells": [
  {
   "cell_type": "markdown",
   "metadata": {},
   "source": [
    "# Preprocessing\n",
    "\n",
    "This preprocessing file should be utilized to do normalizations, feature extraction, etc."
   ]
  },
  {
   "cell_type": "markdown",
   "metadata": {},
   "source": [
    "# Import Files"
   ]
  },
  {
   "cell_type": "code",
   "execution_count": 22,
   "metadata": {},
   "outputs": [],
   "source": [
    "import os\n",
    "\n",
    "import pandas as pd\n",
    "import numpy as np\n",
    "import seaborn as sns\n",
    "from matplotlib import pyplot as plt\n",
    "from pathlib import Path\n",
    "\n",
    "from datetime import datetime\n",
    "\n",
    "import redshift_connector"
   ]
  },
  {
   "cell_type": "markdown",
   "metadata": {},
   "source": [
    "# Settings"
   ]
  },
  {
   "cell_type": "code",
   "execution_count": 23,
   "metadata": {},
   "outputs": [],
   "source": [
    "# path to where we store our preprocessed data\n",
    "data_file_path = Path(\"../data\")\n",
    "\n",
    "# write the file_names of the date-preprocessed data\n",
    "file_names = {\n",
    "    'date_organized_us_disasters.csv'\n",
    "}"
   ]
  },
  {
   "cell_type": "markdown",
   "metadata": {},
   "source": [
    "# Load Files"
   ]
  },
  {
   "cell_type": "code",
   "execution_count": 33,
   "metadata": {},
   "outputs": [],
   "source": [
    "df_us_disasters = pd.read_csv(f\"{data_file_path}/date_organized_us_disasters.csv\", index_col=0)"
   ]
  },
  {
   "cell_type": "markdown",
   "metadata": {},
   "source": [
    "# Preprocessing for Natural Disaster"
   ]
  },
  {
   "cell_type": "code",
   "execution_count": 34,
   "metadata": {},
   "outputs": [],
   "source": [
    "# Counts how many months a disaster lasted, distributes total cost and deaths across those months.\n",
    "df_us_disasters['event_months'] = df_us_disasters.groupby(['name', 'disaster_type'])['date'].transform('count')\n",
    "df_us_disasters['adjusted_cpi_cost'] = df_us_disasters['cpi_adjusted_cost'] / df_us_disasters['event_months']\n",
    "df_us_disasters['adjusted_unadjusted_cost'] = df_us_disasters['unadjusted_cost'] / df_us_disasters['event_months']\n",
    "df_us_disasters['adjusted_deaths'] = df_us_disasters['deaths'] / df_us_disasters['event_months']\n",
    "\n",
    "# log transformation to normalize cost values\n",
    "df_us_disasters['log_cpi_adjusted_cost'] = np.log1p(df_us_disasters['adjusted_cpi_cost'])  # log(1+x) to avoid log(0)\n",
    "df_us_disasters['log_unadjusted_cost'] = np.log1p(df_us_disasters['adjusted_unadjusted_cost'])\n",
    "\n",
    "df_us_disasters = df_us_disasters.drop(['cpi_adjusted_cost', 'unadjusted_cost', 'event_months', 'adjusted_cpi_cost', 'adjusted_unadjusted_cost', 'deaths', 'name'], axis=1)"
   ]
  },
  {
   "cell_type": "code",
   "execution_count": 36,
   "metadata": {},
   "outputs": [],
   "source": [
    "df_us_disasters = pd.get_dummies(df_us_disasters, columns=['disaster_type'], drop_first=True) # One hot encoding the disaster-type"
   ]
  },
  {
   "cell_type": "code",
   "execution_count": 37,
   "metadata": {},
   "outputs": [
    {
     "data": {
      "text/html": [
       "<div>\n",
       "<style scoped>\n",
       "    .dataframe tbody tr th:only-of-type {\n",
       "        vertical-align: middle;\n",
       "    }\n",
       "\n",
       "    .dataframe tbody tr th {\n",
       "        vertical-align: top;\n",
       "    }\n",
       "\n",
       "    .dataframe thead th {\n",
       "        text-align: right;\n",
       "    }\n",
       "</style>\n",
       "<table border=\"1\" class=\"dataframe\">\n",
       "  <thead>\n",
       "    <tr style=\"text-align: right;\">\n",
       "      <th></th>\n",
       "      <th>date</th>\n",
       "      <th>adjusted_deaths</th>\n",
       "      <th>log_cpi_adjusted_cost</th>\n",
       "      <th>log_unadjusted_cost</th>\n",
       "      <th>disaster_type_Flooding</th>\n",
       "      <th>disaster_type_Freeze</th>\n",
       "      <th>disaster_type_Severe Storm</th>\n",
       "      <th>disaster_type_Tropical Cyclone</th>\n",
       "      <th>disaster_type_Wildfire</th>\n",
       "      <th>disaster_type_Winter Storm</th>\n",
       "    </tr>\n",
       "  </thead>\n",
       "  <tbody>\n",
       "    <tr>\n",
       "      <th>0</th>\n",
       "      <td>1980-04</td>\n",
       "      <td>7.0</td>\n",
       "      <td>7.919502</td>\n",
       "      <td>6.562162</td>\n",
       "      <td>True</td>\n",
       "      <td>False</td>\n",
       "      <td>False</td>\n",
       "      <td>False</td>\n",
       "      <td>False</td>\n",
       "      <td>False</td>\n",
       "    </tr>\n",
       "    <tr>\n",
       "      <th>1</th>\n",
       "      <td>1980-08</td>\n",
       "      <td>13.0</td>\n",
       "      <td>7.712980</td>\n",
       "      <td>6.381816</td>\n",
       "      <td>False</td>\n",
       "      <td>False</td>\n",
       "      <td>False</td>\n",
       "      <td>True</td>\n",
       "      <td>False</td>\n",
       "      <td>False</td>\n",
       "    </tr>\n",
       "    <tr>\n",
       "      <th>2</th>\n",
       "      <td>1980-06</td>\n",
       "      <td>35.0</td>\n",
       "      <td>7.030887</td>\n",
       "      <td>5.632406</td>\n",
       "      <td>False</td>\n",
       "      <td>False</td>\n",
       "      <td>False</td>\n",
       "      <td>False</td>\n",
       "      <td>False</td>\n",
       "      <td>False</td>\n",
       "    </tr>\n",
       "    <tr>\n",
       "      <th>3</th>\n",
       "      <td>1980-07</td>\n",
       "      <td>35.0</td>\n",
       "      <td>7.030887</td>\n",
       "      <td>5.632406</td>\n",
       "      <td>False</td>\n",
       "      <td>False</td>\n",
       "      <td>False</td>\n",
       "      <td>False</td>\n",
       "      <td>False</td>\n",
       "      <td>False</td>\n",
       "    </tr>\n",
       "    <tr>\n",
       "      <th>4</th>\n",
       "      <td>1980-08</td>\n",
       "      <td>35.0</td>\n",
       "      <td>7.030887</td>\n",
       "      <td>5.632406</td>\n",
       "      <td>False</td>\n",
       "      <td>False</td>\n",
       "      <td>False</td>\n",
       "      <td>False</td>\n",
       "      <td>False</td>\n",
       "      <td>False</td>\n",
       "    </tr>\n",
       "  </tbody>\n",
       "</table>\n",
       "</div>"
      ],
      "text/plain": [
       "      date  adjusted_deaths  log_cpi_adjusted_cost  log_unadjusted_cost  \\\n",
       "0  1980-04              7.0               7.919502             6.562162   \n",
       "1  1980-08             13.0               7.712980             6.381816   \n",
       "2  1980-06             35.0               7.030887             5.632406   \n",
       "3  1980-07             35.0               7.030887             5.632406   \n",
       "4  1980-08             35.0               7.030887             5.632406   \n",
       "\n",
       "   disaster_type_Flooding  disaster_type_Freeze  disaster_type_Severe Storm  \\\n",
       "0                    True                 False                       False   \n",
       "1                   False                 False                       False   \n",
       "2                   False                 False                       False   \n",
       "3                   False                 False                       False   \n",
       "4                   False                 False                       False   \n",
       "\n",
       "   disaster_type_Tropical Cyclone  disaster_type_Wildfire  \\\n",
       "0                           False                   False   \n",
       "1                            True                   False   \n",
       "2                           False                   False   \n",
       "3                           False                   False   \n",
       "4                           False                   False   \n",
       "\n",
       "   disaster_type_Winter Storm  \n",
       "0                       False  \n",
       "1                       False  \n",
       "2                       False  \n",
       "3                       False  \n",
       "4                       False  "
      ]
     },
     "execution_count": 37,
     "metadata": {},
     "output_type": "execute_result"
    }
   ],
   "source": [
    "df_us_disasters.head() # Use this data to join."
   ]
  },
  {
   "cell_type": "code",
   "execution_count": null,
   "metadata": {},
   "outputs": [],
   "source": []
  }
 ],
 "metadata": {
  "kernelspec": {
   "display_name": "venv",
   "language": "python",
   "name": "python3"
  },
  "language_info": {
   "codemirror_mode": {
    "name": "ipython",
    "version": 3
   },
   "file_extension": ".py",
   "mimetype": "text/x-python",
   "name": "python",
   "nbconvert_exporter": "python",
   "pygments_lexer": "ipython3",
   "version": "3.12.6"
  }
 },
 "nbformat": 4,
 "nbformat_minor": 2
}
