{
 "cells": [
  {
   "cell_type": "code",
   "execution_count": 3,
   "metadata": {},
   "outputs": [],
   "source": [
    "import pandas as pd\n",
    "import numpy as np\n",
    "import seaborn as sns\n",
    "from matplotlib import pyplot as plt\n",
    "from pathlib import Path\n",
    "\n",
    "import xgboost as xgb\n",
    "from xgboost.sklearn import XGBRegressor\n",
    "from sklearn.model_selection import train_test_split \n",
    "from sklearn.metrics import mean_squared_error, mean_absolute_error, r2_score, make_scorer\n",
    "from sklearn.model_selection import GridSearchCV, cross_validate"
   ]
  },
  {
   "cell_type": "markdown",
   "metadata": {},
   "source": [
    "# Setting"
   ]
  },
  {
   "cell_type": "code",
   "execution_count": 4,
   "metadata": {},
   "outputs": [],
   "source": [
    "# path to where we our preprocessed data is\n",
    "data_file_path = Path(\"../data\")\n",
    "\n",
    "# path to where we save our model results\n",
    "model_results_file_path = Path(\"./model_results\")\n",
    "\n",
    "# target variable\n",
    "TARGET_VAR = \"price_per_dozen\"\n",
    "\n",
    "# Initialize models\n",
    "models = {'xgb1' : XGBRegressor()}\n",
    "param_grids = {\n",
    "    'xgb1': {'objective':['reg:squarederror'],\n",
    "              'learning_rate': [0.1], #so called `eta` value\n",
    "              'max_depth': range(10),\n",
    "              'min_child_weight': [4],\n",
    "              'subsample': [0.7],\n",
    "              'colsample_bytree': [0.7],\n",
    "              'n_estimators': [1000]},\n",
    "}\n",
    "parameters = {'objective':['reg:squarederror'],\n",
    "              'learning_rate': [0.1], #so called `eta` value\n",
    "              'max_depth': range(10),\n",
    "              'min_child_weight': [4],\n",
    "              'subsample': [0.7],\n",
    "              'colsample_bytree': [0.7],\n",
    "              'n_estimators': [1000]}\n",
    "\n",
    "# Load Dataset\n",
    "dataset = pd.read_csv(f'{data_file_path}/merged_data.csv', index_col=0)"
   ]
  },
  {
   "cell_type": "markdown",
   "metadata": {},
   "source": [
    "# Regression"
   ]
  },
  {
   "cell_type": "markdown",
   "metadata": {},
   "source": [
    "## Try with all features"
   ]
  },
  {
   "cell_type": "code",
   "execution_count": 5,
   "metadata": {},
   "outputs": [
    {
     "name": "stdout",
     "output_type": "stream",
     "text": [
      "Fitting 5 folds for each of 10 candidates, totalling 50 fits\n"
     ]
    },
    {
     "data": {
      "application/vnd.microsoft.datawrangler.viewer.v0+json": {
       "columns": [
        {
         "name": "index",
         "rawType": "int64",
         "type": "integer"
        },
        {
         "name": "Model",
         "rawType": "object",
         "type": "string"
        },
        {
         "name": "Best Params",
         "rawType": "object",
         "type": "unknown"
        },
        {
         "name": "MAE",
         "rawType": "float64",
         "type": "float"
        },
        {
         "name": "MAE Std",
         "rawType": "float64",
         "type": "float"
        },
        {
         "name": "RMSE",
         "rawType": "float64",
         "type": "float"
        },
        {
         "name": "RMSE Std",
         "rawType": "float64",
         "type": "float"
        },
        {
         "name": "MSE",
         "rawType": "float64",
         "type": "float"
        },
        {
         "name": "MSE Std",
         "rawType": "float64",
         "type": "float"
        },
        {
         "name": "R2",
         "rawType": "float64",
         "type": "float"
        },
        {
         "name": "R2 Std",
         "rawType": "float64",
         "type": "float"
        }
       ],
       "conversionMethod": "pd.DataFrame",
       "ref": "4f9fa976-631a-49c5-ad97-6e2856f71cad",
       "rows": [
        [
         "0",
         "xgb1",
         "{'colsample_bytree': 0.7, 'learning_rate': 0.1, 'max_depth': 1, 'min_child_weight': 4, 'n_estimators': 1000, 'objective': 'reg:squarederror', 'subsample': 0.7}",
         "0.3301552027463913",
         "0.1853045319657662",
         "0.5119992528398657",
         "0.2768868074452825",
         "0.26214323490858077",
         "0.3095669153089463",
         "-1.8053372144699096",
         "1.3423537073176683"
        ]
       ],
       "shape": {
        "columns": 10,
        "rows": 1
       }
      },
      "text/html": [
       "<div>\n",
       "<style scoped>\n",
       "    .dataframe tbody tr th:only-of-type {\n",
       "        vertical-align: middle;\n",
       "    }\n",
       "\n",
       "    .dataframe tbody tr th {\n",
       "        vertical-align: top;\n",
       "    }\n",
       "\n",
       "    .dataframe thead th {\n",
       "        text-align: right;\n",
       "    }\n",
       "</style>\n",
       "<table border=\"1\" class=\"dataframe\">\n",
       "  <thead>\n",
       "    <tr style=\"text-align: right;\">\n",
       "      <th></th>\n",
       "      <th>Model</th>\n",
       "      <th>Best Params</th>\n",
       "      <th>MAE</th>\n",
       "      <th>MAE Std</th>\n",
       "      <th>RMSE</th>\n",
       "      <th>RMSE Std</th>\n",
       "      <th>MSE</th>\n",
       "      <th>MSE Std</th>\n",
       "      <th>R2</th>\n",
       "      <th>R2 Std</th>\n",
       "    </tr>\n",
       "  </thead>\n",
       "  <tbody>\n",
       "    <tr>\n",
       "      <th>0</th>\n",
       "      <td>xgb1</td>\n",
       "      <td>{'colsample_bytree': 0.7, 'learning_rate': 0.1...</td>\n",
       "      <td>0.330155</td>\n",
       "      <td>0.185305</td>\n",
       "      <td>0.511999</td>\n",
       "      <td>0.276887</td>\n",
       "      <td>0.262143</td>\n",
       "      <td>0.309567</td>\n",
       "      <td>-1.805337</td>\n",
       "      <td>1.342354</td>\n",
       "    </tr>\n",
       "  </tbody>\n",
       "</table>\n",
       "</div>"
      ],
      "text/plain": [
       "  Model                                        Best Params       MAE  \\\n",
       "0  xgb1  {'colsample_bytree': 0.7, 'learning_rate': 0.1...  0.330155   \n",
       "\n",
       "    MAE Std      RMSE  RMSE Std       MSE   MSE Std        R2    R2 Std  \n",
       "0  0.185305  0.511999  0.276887  0.262143  0.309567 -1.805337  1.342354  "
      ]
     },
     "execution_count": 5,
     "metadata": {},
     "output_type": "execute_result"
    }
   ],
   "source": [
    "X = dataset[['disaster_cost_adjusted', 'human_outbreaks_per_million', 'covid_hospitalization_per_million', 'infected_flock_cnt', 'infected_h5n1_people_cnt', 'gas_price_per_gallon', 'temp_variance']].copy()\n",
    "Y = dataset.loc[:, TARGET_VAR:TARGET_VAR] # Extract the target variable (Y)\n",
    "\n",
    "# List to store all results\n",
    "results_list = []\n",
    "scoring = {\n",
    "    \"MSE\": make_scorer(mean_squared_error, greater_is_better=False),\n",
    "    \"MAE\": make_scorer(mean_absolute_error, greater_is_better=False),\n",
    "    \"R2\": make_scorer(r2_score)\n",
    "}\n",
    "\n",
    "# Loop through models\n",
    "for name, model in models.items():\n",
    "    if name in param_grids:  # Apply GridSearchCV if hyperparameters exist\n",
    "        grid_search = GridSearchCV(\n",
    "            model, param_grids[name], \n",
    "            cv=5, scoring=scoring, refit=\"R2\", n_jobs=-1, verbose=1\n",
    "        )\n",
    "        grid_search.fit(X, Y)\n",
    "\n",
    "        best_params = grid_search.best_params_\n",
    "        best_model = grid_search.best_estimator_\n",
    "    else:\n",
    "        model.fit(X, Y)  # Train model directly if no hyperparameters\n",
    "        best_params = \"N/A\"\n",
    "        best_model = model\n",
    "\n",
    "    \n",
    "    # Cross-validation scores on the best model\n",
    "    scores = cross_validate(best_model, X, Y, cv=5, scoring=scoring)\n",
    "\n",
    "    # Store results\n",
    "    results_list.append({\n",
    "        'Model': name,\n",
    "        'Best Params': best_params,\n",
    "        'MAE': -np.mean(scores[\"test_MAE\"]),\n",
    "        'MAE Std': np.std(scores[\"test_MAE\"]),\n",
    "        'RMSE': np.sqrt(-np.mean(scores[\"test_MSE\"])),\n",
    "        'RMSE Std': np.std(np.sqrt(-scores[\"test_MSE\"])),\n",
    "        'MSE': -np.mean(scores[\"test_MSE\"]),\n",
    "        'MSE Std': np.std(scores[\"test_MSE\"]),\n",
    "        'R2': np.mean(scores[\"test_R2\"]),\n",
    "        'R2 Std': np.std(scores[\"test_R2\"])\n",
    "    })\n",
    "\n",
    "# Convert results to a DataFrame\n",
    "df_results = pd.DataFrame(results_list)\n",
    "df_results.head()"
   ]
  },
  {
   "cell_type": "code",
   "execution_count": 6,
   "metadata": {},
   "outputs": [],
   "source": [
    "df_results.to_csv(f'{model_results_file_path}/xgboost_result.csv')"
   ]
  },
  {
   "cell_type": "markdown",
   "metadata": {},
   "source": [
    "## Try with some non-zero features"
   ]
  },
  {
   "cell_type": "code",
   "execution_count": 7,
   "metadata": {},
   "outputs": [
    {
     "name": "stdout",
     "output_type": "stream",
     "text": [
      "Fitting 5 folds for each of 10 candidates, totalling 50 fits\n"
     ]
    },
    {
     "data": {
      "text/html": [
       "<div>\n",
       "<style scoped>\n",
       "    .dataframe tbody tr th:only-of-type {\n",
       "        vertical-align: middle;\n",
       "    }\n",
       "\n",
       "    .dataframe tbody tr th {\n",
       "        vertical-align: top;\n",
       "    }\n",
       "\n",
       "    .dataframe thead th {\n",
       "        text-align: right;\n",
       "    }\n",
       "</style>\n",
       "<table border=\"1\" class=\"dataframe\">\n",
       "  <thead>\n",
       "    <tr style=\"text-align: right;\">\n",
       "      <th></th>\n",
       "      <th>Model</th>\n",
       "      <th>Best Params</th>\n",
       "      <th>MAE</th>\n",
       "      <th>MAE Std</th>\n",
       "      <th>RMSE</th>\n",
       "      <th>RMSE Std</th>\n",
       "      <th>MSE</th>\n",
       "      <th>MSE Std</th>\n",
       "      <th>R2</th>\n",
       "      <th>R2 Std</th>\n",
       "    </tr>\n",
       "  </thead>\n",
       "  <tbody>\n",
       "    <tr>\n",
       "      <th>0</th>\n",
       "      <td>xgb1</td>\n",
       "      <td>{'colsample_bytree': 0.7, 'learning_rate': 0.1...</td>\n",
       "      <td>0.393293</td>\n",
       "      <td>0.220159</td>\n",
       "      <td>0.572035</td>\n",
       "      <td>0.289965</td>\n",
       "      <td>0.327224</td>\n",
       "      <td>0.316968</td>\n",
       "      <td>-2.776632</td>\n",
       "      <td>1.68918</td>\n",
       "    </tr>\n",
       "  </tbody>\n",
       "</table>\n",
       "</div>"
      ],
      "text/plain": [
       "  Model                                        Best Params       MAE  \\\n",
       "0  xgb1  {'colsample_bytree': 0.7, 'learning_rate': 0.1...  0.393293   \n",
       "\n",
       "    MAE Std      RMSE  RMSE Std       MSE   MSE Std        R2   R2 Std  \n",
       "0  0.220159  0.572035  0.289965  0.327224  0.316968 -2.776632  1.68918  "
      ]
     },
     "execution_count": 7,
     "metadata": {},
     "output_type": "execute_result"
    }
   ],
   "source": [
    "X = dataset[['disaster_cost_adjusted', 'human_outbreaks_per_million', 'infected_h5n1_people_cnt', 'gas_price_per_gallon', 'temp_variance']].copy()\n",
    "Y = dataset.loc[:, TARGET_VAR:TARGET_VAR] # Extract the target variable (Y)\n",
    "\n",
    "# List to store all results\n",
    "results_list = []\n",
    "scoring = {\n",
    "    \"MSE\": make_scorer(mean_squared_error, greater_is_better=False),\n",
    "    \"MAE\": make_scorer(mean_absolute_error, greater_is_better=False),\n",
    "    \"R2\": make_scorer(r2_score)\n",
    "}\n",
    "\n",
    "# Loop through models\n",
    "for name, model in models.items():\n",
    "    if name in param_grids:  # Apply GridSearchCV if hyperparameters exist\n",
    "        grid_search = GridSearchCV(\n",
    "            model, param_grids[name], \n",
    "            cv=5, scoring=scoring, refit=\"R2\", n_jobs=-1, verbose=1\n",
    "        )\n",
    "        grid_search.fit(X, Y)\n",
    "\n",
    "        best_params = grid_search.best_params_\n",
    "        best_model = grid_search.best_estimator_\n",
    "    else:\n",
    "        model.fit(X, Y)  # Train model directly if no hyperparameters\n",
    "        best_params = \"N/A\"\n",
    "        best_model = model\n",
    "\n",
    "    \n",
    "    # Cross-validation scores on the best model\n",
    "    scores = cross_validate(best_model, X, Y, cv=5, scoring=scoring)\n",
    "\n",
    "    # Store results\n",
    "    results_list.append({\n",
    "        'Model': name,\n",
    "        'Best Params': best_params,\n",
    "        'MAE': -np.mean(scores[\"test_MAE\"]),\n",
    "        'MAE Std': np.std(scores[\"test_MAE\"]),\n",
    "        'RMSE': np.sqrt(-np.mean(scores[\"test_MSE\"])),\n",
    "        'RMSE Std': np.std(np.sqrt(-scores[\"test_MSE\"])),\n",
    "        'MSE': -np.mean(scores[\"test_MSE\"]),\n",
    "        'MSE Std': np.std(scores[\"test_MSE\"]),\n",
    "        'R2': np.mean(scores[\"test_R2\"]),\n",
    "        'R2 Std': np.std(scores[\"test_R2\"])\n",
    "    })\n",
    "\n",
    "# Convert results to a DataFrame\n",
    "df_results = pd.DataFrame(results_list)\n",
    "df_results.head()"
   ]
  },
  {
   "cell_type": "code",
   "execution_count": null,
   "metadata": {},
   "outputs": [],
   "source": [
    "df_results.to_csv(f'{model_results_file_path}/xgb_cv_result.csv')"
   ]
  }
 ],
 "metadata": {
  "kernelspec": {
   "display_name": "venv",
   "language": "python",
   "name": "python3"
  },
  "language_info": {
   "codemirror_mode": {
    "name": "ipython",
    "version": 3
   },
   "file_extension": ".py",
   "mimetype": "text/x-python",
   "name": "python",
   "nbconvert_exporter": "python",
   "pygments_lexer": "ipython3",
   "version": "3.13.0"
  }
 },
 "nbformat": 4,
 "nbformat_minor": 2
}
