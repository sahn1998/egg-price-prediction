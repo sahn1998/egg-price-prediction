{
 "cells": [
  {
   "cell_type": "code",
   "execution_count": 1,
   "metadata": {},
   "outputs": [],
   "source": [
    "import numpy as np\n",
    "import pandas as pd\n",
    "from sklearn.svm import SVR\n",
    "from sklearn.model_selection import GridSearchCV, cross_val_score\n",
    "from sklearn.preprocessing import StandardScaler\n",
    "from sklearn.metrics import make_scorer, mean_squared_error, mean_absolute_error, r2_score"
   ]
  },
  {
   "cell_type": "code",
   "execution_count": 2,
   "metadata": {},
   "outputs": [
    {
     "data": {
      "application/vnd.microsoft.datawrangler.viewer.v0+json": {
       "columns": [
        {
         "name": "index",
         "rawType": "int64",
         "type": "integer"
        },
        {
         "name": "price_per_dozen",
         "rawType": "float64",
         "type": "float"
        },
        {
         "name": "change_in_price_per_dozen",
         "rawType": "float64",
         "type": "float"
        },
        {
         "name": "disaster_deaths_adjusted",
         "rawType": "float64",
         "type": "float"
        },
        {
         "name": "disaster_cost_adjusted",
         "rawType": "float64",
         "type": "float"
        },
        {
         "name": "human_outbreaks_per_million",
         "rawType": "float64",
         "type": "float"
        },
        {
         "name": "human_illnesses_per_million",
         "rawType": "float64",
         "type": "float"
        },
        {
         "name": "covid_hospitalization_per_million",
         "rawType": "float64",
         "type": "float"
        },
        {
         "name": "infected_flock_cnt",
         "rawType": "float64",
         "type": "float"
        },
        {
         "name": "infected_bird_cnt",
         "rawType": "float64",
         "type": "float"
        },
        {
         "name": "infected_h5n1_people_cnt",
         "rawType": "float64",
         "type": "float"
        },
        {
         "name": "temp_variance",
         "rawType": "float64",
         "type": "float"
        },
        {
         "name": "gas_price_per_gallon",
         "rawType": "float64",
         "type": "float"
        }
       ],
       "conversionMethod": "pd.DataFrame",
       "ref": "d863e1e6-14da-4c77-b852-1256154eecb0",
       "rows": [
        [
         "0",
         "0.8790000081062317",
         "0.0",
         "0.0",
         "0.0",
         "0.0",
         "0.0",
         "0.0",
         "0.0",
         "0.0",
         "0.0",
         "2.605921135139265",
         "1.11"
        ],
        [
         "1",
         "0.7739999890327454",
         "-0.1050000190734863",
         "0.0",
         "0.0",
         "0.0",
         "0.0",
         "0.0",
         "0.0",
         "0.0",
         "0.0",
         "5.400544791053246",
         "1.186"
        ],
        [
         "2",
         "0.8119999766349792",
         "0.0379999876022338",
         "0.0",
         "0.0",
         "0.0",
         "0.0",
         "0.0",
         "0.0",
         "0.0",
         "0.0",
         "16.77146687906545",
         "1.23"
        ],
        [
         "3",
         "0.796999990940094",
         "-0.0149999856948852",
         "7.0",
         "7.919501599122385",
         "0.0",
         "0.0",
         "0.0",
         "0.0",
         "0.0",
         "0.0",
         "1.6696747643701002",
         "1.242"
        ],
        [
         "4",
         "0.7369999885559082",
         "-0.0600000023841857",
         "0.0",
         "0.0",
         "0.0",
         "0.0",
         "0.0",
         "0.0",
         "0.0",
         "0.0",
         "11.37584494889154",
         "1.244"
        ]
       ],
       "shape": {
        "columns": 12,
        "rows": 5
       }
      },
      "text/html": [
       "<div>\n",
       "<style scoped>\n",
       "    .dataframe tbody tr th:only-of-type {\n",
       "        vertical-align: middle;\n",
       "    }\n",
       "\n",
       "    .dataframe tbody tr th {\n",
       "        vertical-align: top;\n",
       "    }\n",
       "\n",
       "    .dataframe thead th {\n",
       "        text-align: right;\n",
       "    }\n",
       "</style>\n",
       "<table border=\"1\" class=\"dataframe\">\n",
       "  <thead>\n",
       "    <tr style=\"text-align: right;\">\n",
       "      <th></th>\n",
       "      <th>price_per_dozen</th>\n",
       "      <th>change_in_price_per_dozen</th>\n",
       "      <th>disaster_deaths_adjusted</th>\n",
       "      <th>disaster_cost_adjusted</th>\n",
       "      <th>human_outbreaks_per_million</th>\n",
       "      <th>human_illnesses_per_million</th>\n",
       "      <th>covid_hospitalization_per_million</th>\n",
       "      <th>infected_flock_cnt</th>\n",
       "      <th>infected_bird_cnt</th>\n",
       "      <th>infected_h5n1_people_cnt</th>\n",
       "      <th>temp_variance</th>\n",
       "      <th>gas_price_per_gallon</th>\n",
       "    </tr>\n",
       "  </thead>\n",
       "  <tbody>\n",
       "    <tr>\n",
       "      <th>0</th>\n",
       "      <td>0.879</td>\n",
       "      <td>0.000</td>\n",
       "      <td>0.0</td>\n",
       "      <td>0.000000</td>\n",
       "      <td>0.0</td>\n",
       "      <td>0.0</td>\n",
       "      <td>0.0</td>\n",
       "      <td>0.0</td>\n",
       "      <td>0.0</td>\n",
       "      <td>0.0</td>\n",
       "      <td>2.605921</td>\n",
       "      <td>1.110</td>\n",
       "    </tr>\n",
       "    <tr>\n",
       "      <th>1</th>\n",
       "      <td>0.774</td>\n",
       "      <td>-0.105</td>\n",
       "      <td>0.0</td>\n",
       "      <td>0.000000</td>\n",
       "      <td>0.0</td>\n",
       "      <td>0.0</td>\n",
       "      <td>0.0</td>\n",
       "      <td>0.0</td>\n",
       "      <td>0.0</td>\n",
       "      <td>0.0</td>\n",
       "      <td>5.400545</td>\n",
       "      <td>1.186</td>\n",
       "    </tr>\n",
       "    <tr>\n",
       "      <th>2</th>\n",
       "      <td>0.812</td>\n",
       "      <td>0.038</td>\n",
       "      <td>0.0</td>\n",
       "      <td>0.000000</td>\n",
       "      <td>0.0</td>\n",
       "      <td>0.0</td>\n",
       "      <td>0.0</td>\n",
       "      <td>0.0</td>\n",
       "      <td>0.0</td>\n",
       "      <td>0.0</td>\n",
       "      <td>16.771467</td>\n",
       "      <td>1.230</td>\n",
       "    </tr>\n",
       "    <tr>\n",
       "      <th>3</th>\n",
       "      <td>0.797</td>\n",
       "      <td>-0.015</td>\n",
       "      <td>7.0</td>\n",
       "      <td>7.919502</td>\n",
       "      <td>0.0</td>\n",
       "      <td>0.0</td>\n",
       "      <td>0.0</td>\n",
       "      <td>0.0</td>\n",
       "      <td>0.0</td>\n",
       "      <td>0.0</td>\n",
       "      <td>1.669675</td>\n",
       "      <td>1.242</td>\n",
       "    </tr>\n",
       "    <tr>\n",
       "      <th>4</th>\n",
       "      <td>0.737</td>\n",
       "      <td>-0.060</td>\n",
       "      <td>0.0</td>\n",
       "      <td>0.000000</td>\n",
       "      <td>0.0</td>\n",
       "      <td>0.0</td>\n",
       "      <td>0.0</td>\n",
       "      <td>0.0</td>\n",
       "      <td>0.0</td>\n",
       "      <td>0.0</td>\n",
       "      <td>11.375845</td>\n",
       "      <td>1.244</td>\n",
       "    </tr>\n",
       "  </tbody>\n",
       "</table>\n",
       "</div>"
      ],
      "text/plain": [
       "   price_per_dozen  change_in_price_per_dozen  disaster_deaths_adjusted  \\\n",
       "0            0.879                      0.000                       0.0   \n",
       "1            0.774                     -0.105                       0.0   \n",
       "2            0.812                      0.038                       0.0   \n",
       "3            0.797                     -0.015                       7.0   \n",
       "4            0.737                     -0.060                       0.0   \n",
       "\n",
       "   disaster_cost_adjusted  human_outbreaks_per_million  \\\n",
       "0                0.000000                          0.0   \n",
       "1                0.000000                          0.0   \n",
       "2                0.000000                          0.0   \n",
       "3                7.919502                          0.0   \n",
       "4                0.000000                          0.0   \n",
       "\n",
       "   human_illnesses_per_million  covid_hospitalization_per_million  \\\n",
       "0                          0.0                                0.0   \n",
       "1                          0.0                                0.0   \n",
       "2                          0.0                                0.0   \n",
       "3                          0.0                                0.0   \n",
       "4                          0.0                                0.0   \n",
       "\n",
       "   infected_flock_cnt  infected_bird_cnt  infected_h5n1_people_cnt  \\\n",
       "0                 0.0                0.0                       0.0   \n",
       "1                 0.0                0.0                       0.0   \n",
       "2                 0.0                0.0                       0.0   \n",
       "3                 0.0                0.0                       0.0   \n",
       "4                 0.0                0.0                       0.0   \n",
       "\n",
       "   temp_variance  gas_price_per_gallon  \n",
       "0       2.605921                 1.110  \n",
       "1       5.400545                 1.186  \n",
       "2      16.771467                 1.230  \n",
       "3       1.669675                 1.242  \n",
       "4      11.375845                 1.244  "
      ]
     },
     "execution_count": 2,
     "metadata": {},
     "output_type": "execute_result"
    }
   ],
   "source": [
    "data = pd.read_csv('../data/merged_data.csv', index_col = 0)\n",
    "data.head()"
   ]
  },
  {
   "cell_type": "code",
   "execution_count": 3,
   "metadata": {},
   "outputs": [
    {
     "data": {
      "text/plain": [
       "(   disaster_cost_adjusted  human_outbreaks_per_million  \\\n",
       " 0                0.000000                          0.0   \n",
       " 1                0.000000                          0.0   \n",
       " 2                0.000000                          0.0   \n",
       " 3                7.919502                          0.0   \n",
       " 4                0.000000                          0.0   \n",
       " \n",
       "    covid_hospitalization_per_million  infected_flock_cnt  \\\n",
       " 0                                0.0                 0.0   \n",
       " 1                                0.0                 0.0   \n",
       " 2                                0.0                 0.0   \n",
       " 3                                0.0                 0.0   \n",
       " 4                                0.0                 0.0   \n",
       " \n",
       "    infected_h5n1_people_cnt  gas_price_per_gallon  temp_variance  \n",
       " 0                       0.0                 1.110       2.605921  \n",
       " 1                       0.0                 1.186       5.400545  \n",
       " 2                       0.0                 1.230      16.771467  \n",
       " 3                       0.0                 1.242       1.669675  \n",
       " 4                       0.0                 1.244      11.375845  ,\n",
       "    price_per_dozen\n",
       " 0            0.879\n",
       " 1            0.774\n",
       " 2            0.812\n",
       " 3            0.797\n",
       " 4            0.737)"
      ]
     },
     "execution_count": 3,
     "metadata": {},
     "output_type": "execute_result"
    }
   ],
   "source": [
    "X = data[['disaster_cost_adjusted', 'human_outbreaks_per_million', 'covid_hospitalization_per_million', \n",
    "          'infected_flock_cnt', 'infected_h5n1_people_cnt', 'gas_price_per_gallon', 'temp_variance']].copy()\n",
    "Y = data[['price_per_dozen']]\n",
    "X.head(), Y.head()"
   ]
  },
  {
   "cell_type": "code",
   "execution_count": 4,
   "metadata": {},
   "outputs": [],
   "source": [
    "scaler = StandardScaler()\n",
    "X_scaled = scaler.fit_transform(X)"
   ]
  },
  {
   "cell_type": "code",
   "execution_count": 5,
   "metadata": {},
   "outputs": [],
   "source": [
    "models = {\n",
    "    \"SVR\": SVR()\n",
    "}"
   ]
  },
  {
   "cell_type": "code",
   "execution_count": 6,
   "metadata": {},
   "outputs": [],
   "source": [
    "param_grids = {\n",
    "    \"SVR\": {\n",
    "        'C': [0.001, 0.1, 1, 10, 100],  \n",
    "        'gamma': ['scale', 'auto', 0.001, 0.01, 0.1, 1],  \n",
    "        'epsilon': [0.001, 0.01, 0.1, 0.5, 1]  \n",
    "    }\n",
    "}"
   ]
  },
  {
   "cell_type": "code",
   "execution_count": 7,
   "metadata": {},
   "outputs": [],
   "source": [
    "scoring = {\n",
    "    \"MSE\": make_scorer(mean_squared_error, greater_is_better=False),\n",
    "    \"MAE\": make_scorer(mean_absolute_error, greater_is_better=False),\n",
    "    \"R2\": make_scorer(r2_score)\n",
    "}"
   ]
  },
  {
   "cell_type": "code",
   "execution_count": 8,
   "metadata": {},
   "outputs": [
    {
     "name": "stdout",
     "output_type": "stream",
     "text": [
      "Fitting 5 folds for each of 150 candidates, totalling 750 fits\n"
     ]
    }
   ],
   "source": [
    "# List to store results\n",
    "results_list = []\n",
    "\n",
    "# Loop through models\n",
    "for name, model in models.items():\n",
    "    if name in param_grids:  # Apply GridSearchCV if hyperparameters exist\n",
    "        grid_search = GridSearchCV(\n",
    "            model, param_grids[name], \n",
    "            cv = 5, scoring = scoring, refit = \"R2\", n_jobs = -1, verbose = True\n",
    "        )\n",
    "        grid_search.fit(X_scaled, Y.values.ravel())  # Fit the model using training data\n",
    "\n",
    "        best_params = grid_search.best_params_\n",
    "        best_model = grid_search.best_estimator_\n",
    "\n",
    "        # Cross-validation scores on the best model\n",
    "        r2_scores = cross_val_score(best_model, X_scaled, Y.values.ravel(), cv = 5, scoring = \"r2\")\n",
    "        mse_scores = -cross_val_score(best_model, X_scaled, Y.values.ravel(), cv = 5, scoring = \"neg_mean_squared_error\")\n",
    "        mae_scores = -cross_val_score(best_model, X_scaled, Y.values.ravel(), cv = 5, scoring = \"neg_mean_absolute_error\")\n",
    "\n",
    "        # Store cross-validation results\n",
    "        results_list.append({\n",
    "            'Model': name,\n",
    "            'Best Params': best_params,\n",
    "            'MAE': np.mean(mae_scores),\n",
    "            'MAE Std': np.std(mae_scores),\n",
    "            'RMSE': np.sqrt(np.mean(mse_scores)),\n",
    "            'RMSE Std': np.std(np.sqrt(mse_scores)),\n",
    "            'MSE': np.mean(mse_scores),\n",
    "            'MSE Std': np.std(mse_scores),\n",
    "            'R2': np.mean(r2_scores),\n",
    "            'R2 Std': np.std(r2_scores)\n",
    "        })\n",
    "    else:\n",
    "        model.fit(X_scaled, Y.values.ravel())  # Train directly without GridSearch\n",
    "        best_params = \"N/A\"\n",
    "        best_model = model\n",
    "\n",
    "        # Cross-validation scores on the model\n",
    "        r2_scores = cross_val_score(best_model, X_scaled, Y.values.ravel(), cv = 5, scoring = \"r2\")\n",
    "        mse_scores = -cross_val_score(best_model, X_scaled, Y.values.ravel(), cv = 5, scoring = \"neg_mean_squared_error\")\n",
    "        mae_scores = -cross_val_score(best_model, X_scaled, Y.values.ravel(), cv = 5, scoring = \"neg_mean_absolute_error\")\n",
    "\n",
    "        # Store cross-validation results\n",
    "        results_list.append({\n",
    "            'Model': name,\n",
    "            'Best Params': best_params,\n",
    "            'MAE': np.mean(mae_scores),\n",
    "            'MAE Std': np.std(mae_scores),\n",
    "            'RMSE': np.sqrt(np.mean(mse_scores)),\n",
    "            'RMSE Std': np.std(np.sqrt(mse_scores)),\n",
    "            'MSE': np.mean(mse_scores),\n",
    "            'MSE Std': np.std(mse_scores),\n",
    "            'R2': np.mean(r2_scores),\n",
    "            'R2 Std': np.std(r2_scores)\n",
    "        })"
   ]
  },
  {
   "cell_type": "code",
   "execution_count": 9,
   "metadata": {},
   "outputs": [
    {
     "data": {
      "application/vnd.microsoft.datawrangler.viewer.v0+json": {
       "columns": [
        {
         "name": "index",
         "rawType": "int64",
         "type": "integer"
        },
        {
         "name": "Model",
         "rawType": "object",
         "type": "string"
        },
        {
         "name": "Best Params",
         "rawType": "object",
         "type": "unknown"
        },
        {
         "name": "MAE",
         "rawType": "float64",
         "type": "float"
        },
        {
         "name": "MAE Std",
         "rawType": "float64",
         "type": "float"
        },
        {
         "name": "RMSE",
         "rawType": "float64",
         "type": "float"
        },
        {
         "name": "RMSE Std",
         "rawType": "float64",
         "type": "float"
        },
        {
         "name": "MSE",
         "rawType": "float64",
         "type": "float"
        },
        {
         "name": "MSE Std",
         "rawType": "float64",
         "type": "float"
        },
        {
         "name": "R2",
         "rawType": "float64",
         "type": "float"
        },
        {
         "name": "R2 Std",
         "rawType": "float64",
         "type": "float"
        }
       ],
       "conversionMethod": "pd.DataFrame",
       "ref": "596f62c7-3aef-49c9-81d7-04b75e3778ac",
       "rows": [
        [
         "0",
         "SVR",
         "{'C': 10, 'epsilon': 0.1, 'gamma': 0.001}",
         "0.23303921771312858",
         "0.15270676031916697",
         "0.44644342854412405",
         "0.2770055252658024",
         "0.19931173489023238",
         "0.27663343581082284",
         "-0.4528777072021102",
         "0.3843018980325787"
        ]
       ],
       "shape": {
        "columns": 10,
        "rows": 1
       }
      },
      "text/html": [
       "<div>\n",
       "<style scoped>\n",
       "    .dataframe tbody tr th:only-of-type {\n",
       "        vertical-align: middle;\n",
       "    }\n",
       "\n",
       "    .dataframe tbody tr th {\n",
       "        vertical-align: top;\n",
       "    }\n",
       "\n",
       "    .dataframe thead th {\n",
       "        text-align: right;\n",
       "    }\n",
       "</style>\n",
       "<table border=\"1\" class=\"dataframe\">\n",
       "  <thead>\n",
       "    <tr style=\"text-align: right;\">\n",
       "      <th></th>\n",
       "      <th>Model</th>\n",
       "      <th>Best Params</th>\n",
       "      <th>MAE</th>\n",
       "      <th>MAE Std</th>\n",
       "      <th>RMSE</th>\n",
       "      <th>RMSE Std</th>\n",
       "      <th>MSE</th>\n",
       "      <th>MSE Std</th>\n",
       "      <th>R2</th>\n",
       "      <th>R2 Std</th>\n",
       "    </tr>\n",
       "  </thead>\n",
       "  <tbody>\n",
       "    <tr>\n",
       "      <th>0</th>\n",
       "      <td>SVR</td>\n",
       "      <td>{'C': 10, 'epsilon': 0.1, 'gamma': 0.001}</td>\n",
       "      <td>0.233039</td>\n",
       "      <td>0.152707</td>\n",
       "      <td>0.446443</td>\n",
       "      <td>0.277006</td>\n",
       "      <td>0.199312</td>\n",
       "      <td>0.276633</td>\n",
       "      <td>-0.452878</td>\n",
       "      <td>0.384302</td>\n",
       "    </tr>\n",
       "  </tbody>\n",
       "</table>\n",
       "</div>"
      ],
      "text/plain": [
       "  Model                                Best Params       MAE   MAE Std  \\\n",
       "0   SVR  {'C': 10, 'epsilon': 0.1, 'gamma': 0.001}  0.233039  0.152707   \n",
       "\n",
       "       RMSE  RMSE Std       MSE   MSE Std        R2    R2 Std  \n",
       "0  0.446443  0.277006  0.199312  0.276633 -0.452878  0.384302  "
      ]
     },
     "execution_count": 9,
     "metadata": {},
     "output_type": "execute_result"
    }
   ],
   "source": [
    "df_results = pd.DataFrame(results_list)\n",
    "df_results"
   ]
  },
  {
   "cell_type": "code",
   "execution_count": 10,
   "metadata": {},
   "outputs": [],
   "source": [
    "from pathlib import Path\n",
    "\n",
    "model_results_file_path = Path(\"./model_results\")\n",
    "df_results.to_csv(f'{model_results_file_path}/svm_cv_result.csv')"
   ]
  },
  {
   "cell_type": "code",
   "execution_count": 11,
   "metadata": {},
   "outputs": [],
   "source": [
    "# C = 10: The regularization parameter. A larger value of C suggests that the model is trying to fit the data more closely, placing a higher penalty on misclassification (or in regression, on large errors). \n",
    "# A value of C = 10 implies the model has a stronger emphasis on reducing training error, which may lead to less bias but possibly more variance (risk of overfitting).\n",
    "# epsilon = 0.1: The epsilon parameter controls the width of the margin where no penalty is applied to errors. \n",
    "# A value of 0.1 suggests that the model allows some flexibility in the errors without penalizing them. A moderate value like this is often a good starting point to strike a balance between fitting the data closely and maintaining a smooth model.\n",
    "# gamma = 0.001: The gamma parameter controls the influence of each individual training point. \n",
    "# A small gamma value like 0.001 means that each training point has a broad influence on the decision boundary, leading to a smoother decision boundary and prevents the model from reacting too strongly to small changes in the data, which can help with generalization and avoiding overfitting."
   ]
  },
  {
   "cell_type": "code",
   "execution_count": null,
   "metadata": {},
   "outputs": [],
   "source": [
    "# MAE of 0.233 indicates that, on average, the model is off by about 0.23 units from the true values.\n",
    "# The RMSE of 0.45 shows the average magnitude of errors, with larger errors penalized more, and the MSE confirms that the model's errors are quite substantial.\n",
    "# R² of -0.45 indicates that the model is performing poorly and is unable to explain the variance in the target variable better than a naive model.\n",
    "# The relatively high standard deviations in the metrics (especially in R² and RMSE) suggest that the model's performance is inconsistent across the different folds of the cross-validation.\n",
    "# Since the R² is negative, the model is not explaining the variance well and does worse than a model that always predicts the mean. This could be due to various factors like:\n",
    "# The feature set may not be a good match for the target variable.\n",
    "# SVR might not be the best model for this problem."
   ]
  },
  {
   "cell_type": "code",
   "execution_count": null,
   "metadata": {},
   "outputs": [],
   "source": []
  }
 ],
 "metadata": {
  "kernelspec": {
   "display_name": "venv",
   "language": "python",
   "name": "python3"
  },
  "language_info": {
   "codemirror_mode": {
    "name": "ipython",
    "version": 3
   },
   "file_extension": ".py",
   "mimetype": "text/x-python",
   "name": "python",
   "nbconvert_exporter": "python",
   "pygments_lexer": "ipython3",
   "version": "3.13.0"
  }
 },
 "nbformat": 4,
 "nbformat_minor": 2
}
