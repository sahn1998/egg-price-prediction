{
 "cells": [
  {
   "cell_type": "code",
   "execution_count": 1,
   "metadata": {},
   "outputs": [],
   "source": [
    "import pandas as pd\n",
    "import numpy as np\n",
    "from pathlib import Path\n",
    "import matplotlib.pyplot as plt\n",
    "\n",
    "from sklearn.linear_model import Lasso, Ridge, LinearRegression\n",
    "from sklearn.metrics import mean_squared_error, mean_absolute_error, r2_score, make_scorer\n",
    "from sklearn.model_selection import GridSearchCV, cross_validate"
   ]
  },
  {
   "cell_type": "markdown",
   "metadata": {},
   "source": [
    "# Setting"
   ]
  },
  {
   "cell_type": "code",
   "execution_count": 2,
   "metadata": {},
   "outputs": [],
   "source": [
    "# path to where we our preprocessed data is\n",
    "data_file_path = Path(\"../data\")\n",
    "\n",
    "# path to where we save our model results\n",
    "model_results_file_path = Path(\"./model_results\")\n",
    "\n",
    "# target variable\n",
    "TARGET_VAR = \"price_per_dozen\"\n",
    "\n",
    "# Initialize models\n",
    "models = {\n",
    "    \"Linear Regression\": LinearRegression(),\n",
    "    \"Ridge Regression\": Ridge(),\n",
    "    \"Lasso Regression\": Lasso()\n",
    "}\n",
    "\n",
    "# Hyperparameter grids\n",
    "param_grids = {\n",
    "    \"Ridge Regression\": {\"alpha\": [0.01, 0.1, 1, 10, 100]},\n",
    "    \"Lasso Regression\": {\"alpha\": [0.001, 0.01, 0.1, 1, 10]}\n",
    "}\n",
    "\n",
    "# Load Dataset\n",
    "dataset = pd.read_csv(f'{data_file_path}/merged_data.csv', index_col=0)\n",
    "dataset_scaled = pd.read_csv(f'{data_file_path}/merged_scaled_data.csv', index_col=0)"
   ]
  },
  {
   "cell_type": "markdown",
   "metadata": {},
   "source": [
    "# Regression"
   ]
  },
  {
   "cell_type": "markdown",
   "metadata": {},
   "source": [
    "## Original Features"
   ]
  },
  {
   "cell_type": "code",
   "execution_count": 3,
   "metadata": {},
   "outputs": [
    {
     "name": "stdout",
     "output_type": "stream",
     "text": [
      "Fitting 5 folds for each of 5 candidates, totalling 25 fits\n",
      "Fitting 5 folds for each of 5 candidates, totalling 25 fits\n"
     ]
    },
    {
     "data": {
      "text/html": [
       "<div>\n",
       "<style scoped>\n",
       "    .dataframe tbody tr th:only-of-type {\n",
       "        vertical-align: middle;\n",
       "    }\n",
       "\n",
       "    .dataframe tbody tr th {\n",
       "        vertical-align: top;\n",
       "    }\n",
       "\n",
       "    .dataframe thead th {\n",
       "        text-align: right;\n",
       "    }\n",
       "</style>\n",
       "<table border=\"1\" class=\"dataframe\">\n",
       "  <thead>\n",
       "    <tr style=\"text-align: right;\">\n",
       "      <th></th>\n",
       "      <th>Model</th>\n",
       "      <th>Best Params</th>\n",
       "      <th>MAE</th>\n",
       "      <th>MAE Std</th>\n",
       "      <th>RMSE</th>\n",
       "      <th>RMSE Std</th>\n",
       "      <th>MSE</th>\n",
       "      <th>MSE Std</th>\n",
       "      <th>R2</th>\n",
       "      <th>R2 Std</th>\n",
       "    </tr>\n",
       "  </thead>\n",
       "  <tbody>\n",
       "    <tr>\n",
       "      <th>0</th>\n",
       "      <td>Linear Regression</td>\n",
       "      <td>N/A</td>\n",
       "      <td>0.241090</td>\n",
       "      <td>0.146091</td>\n",
       "      <td>0.435330</td>\n",
       "      <td>0.259650</td>\n",
       "      <td>0.189512</td>\n",
       "      <td>0.248603</td>\n",
       "      <td>-0.519966</td>\n",
       "      <td>0.416523</td>\n",
       "    </tr>\n",
       "    <tr>\n",
       "      <th>1</th>\n",
       "      <td>Ridge Regression</td>\n",
       "      <td>{'alpha': 10}</td>\n",
       "      <td>0.237533</td>\n",
       "      <td>0.141805</td>\n",
       "      <td>0.433083</td>\n",
       "      <td>0.498745</td>\n",
       "      <td>0.187561</td>\n",
       "      <td>0.248746</td>\n",
       "      <td>-0.513284</td>\n",
       "      <td>0.409282</td>\n",
       "    </tr>\n",
       "    <tr>\n",
       "      <th>2</th>\n",
       "      <td>Lasso Regression</td>\n",
       "      <td>{'alpha': 0.001}</td>\n",
       "      <td>0.240442</td>\n",
       "      <td>0.145130</td>\n",
       "      <td>0.434552</td>\n",
       "      <td>0.498113</td>\n",
       "      <td>0.188836</td>\n",
       "      <td>0.248116</td>\n",
       "      <td>-0.518070</td>\n",
       "      <td>0.414108</td>\n",
       "    </tr>\n",
       "  </tbody>\n",
       "</table>\n",
       "</div>"
      ],
      "text/plain": [
       "               Model       Best Params       MAE   MAE Std      RMSE  \\\n",
       "0  Linear Regression               N/A  0.241090  0.146091  0.435330   \n",
       "1   Ridge Regression     {'alpha': 10}  0.237533  0.141805  0.433083   \n",
       "2   Lasso Regression  {'alpha': 0.001}  0.240442  0.145130  0.434552   \n",
       "\n",
       "   RMSE Std       MSE   MSE Std        R2    R2 Std  \n",
       "0  0.259650  0.189512  0.248603 -0.519966  0.416523  \n",
       "1  0.498745  0.187561  0.248746 -0.513284  0.409282  \n",
       "2  0.498113  0.188836  0.248116 -0.518070  0.414108  "
      ]
     },
     "execution_count": 3,
     "metadata": {},
     "output_type": "execute_result"
    }
   ],
   "source": [
    "X = dataset[['disaster_cost_adjusted', 'human_outbreaks_per_million', 'covid_hospitalization_per_million', 'infected_flock_cnt', 'infected_h5n1_people_cnt', 'gas_price_per_gallon', 'temp_variance']].copy()\n",
    "Y = dataset.loc[:, TARGET_VAR:TARGET_VAR] # Extract the target variable (Y)\n",
    "\n",
    "# List to store all results\n",
    "results_list = []\n",
    "scoring = {\n",
    "    \"MSE\": make_scorer(mean_squared_error, greater_is_better=False),\n",
    "    \"MAE\": make_scorer(mean_absolute_error, greater_is_better=False),\n",
    "    \"R2\": make_scorer(r2_score)\n",
    "}\n",
    "\n",
    "# Loop through models\n",
    "for name, model in models.items():\n",
    "    if name in param_grids:  # Apply GridSearchCV if hyperparameters exist\n",
    "        grid_search = GridSearchCV(\n",
    "            model, param_grids[name], \n",
    "            cv=5, scoring=scoring, refit=\"R2\", n_jobs=-1, verbose=1\n",
    "        )\n",
    "        grid_search.fit(X, Y)\n",
    "\n",
    "        # Get best hyperparameters and model\n",
    "        best_params = grid_search.best_params_\n",
    "        best_model = grid_search.best_estimator_\n",
    "\n",
    "        # Extract cross-validation results from GridSearchCV\n",
    "        cv_results = grid_search.cv_results_\n",
    "        best_index = grid_search.best_index_\n",
    "\n",
    "        # Extract precomputed metrics\n",
    "        mean_mae = -cv_results[\"mean_test_MAE\"][best_index]\n",
    "        std_mae = cv_results[\"std_test_MAE\"][best_index]\n",
    "        mean_mse = -cv_results[\"mean_test_MSE\"][best_index]\n",
    "        std_mse = cv_results[\"std_test_MSE\"][best_index]\n",
    "        mean_rmse = np.sqrt(mean_mse)\n",
    "        std_rmse = np.sqrt(std_mse)  # Direct RMSE std calculation\n",
    "        mean_r2 = cv_results[\"mean_test_R2\"][best_index]\n",
    "        std_r2 = cv_results[\"std_test_R2\"][best_index]\n",
    "\n",
    "    else:\n",
    "        model.fit(X, Y)  # Train model directly if no hyperparameters\n",
    "        best_params = \"N/A\"\n",
    "        best_model = model\n",
    "\n",
    "        # Perform 5-fold CV only if GridSearchCV was not used\n",
    "        scores = cross_validate(best_model, X, Y, cv=5, scoring=scoring)\n",
    "\n",
    "        # Extract metrics from cross-validation results\n",
    "        mean_mae = -np.mean(scores[\"test_MAE\"])\n",
    "        std_mae = np.std(scores[\"test_MAE\"])\n",
    "        mean_mse = -np.mean(scores[\"test_MSE\"])\n",
    "        std_mse = np.std(scores[\"test_MSE\"])\n",
    "        mean_rmse = np.sqrt(mean_mse)\n",
    "        std_rmse = np.std(np.sqrt(-scores[\"test_MSE\"]))\n",
    "        mean_r2 = np.mean(scores[\"test_R2\"])\n",
    "        std_r2 = np.std(scores[\"test_R2\"])\n",
    "\n",
    "    # Store results\n",
    "    results_list.append({\n",
    "        'Model': name,\n",
    "        'Best Params': best_params,\n",
    "        'MAE': mean_mae,\n",
    "        'MAE Std': std_mae,\n",
    "        'RMSE': mean_rmse,\n",
    "        'RMSE Std': std_rmse,\n",
    "        'MSE': mean_mse,\n",
    "        'MSE Std': std_mse,\n",
    "        'R2': mean_r2,\n",
    "        'R2 Std': std_r2\n",
    "    })\n",
    "\n",
    "# Convert results to a DataFrame\n",
    "df_results = pd.DataFrame(results_list)\n",
    "df_results.head()"
   ]
  },
  {
   "cell_type": "code",
   "execution_count": 4,
   "metadata": {},
   "outputs": [],
   "source": [
    "df_results.to_csv(f'{model_results_file_path}/linear_ridge_lasso_cv_result.csv')"
   ]
  },
  {
   "cell_type": "code",
   "execution_count": 5,
   "metadata": {},
   "outputs": [
    {
     "data": {
      "image/png": "[encoded data removed]",
      "text/plain": [
       "<Figure size 1200x600 with 1 Axes>"
      ]
     },
     "metadata": {},
     "output_type": "display_data"
    }
   ],
   "source": [
    "import numpy as np\n",
    "\n",
    "metrics = [\"MSE\", \"RMSE\", \"MAE\", \"R2\"]\n",
    "x = np.arange(len(df_results))  # X-axis positions for models\n",
    "\n",
    "plt.figure(figsize=(12, 6))\n",
    "\n",
    "for i, metric in enumerate(metrics):\n",
    "    plt.bar(x + i * 0.2, df_results[metric], width=0.2, label=metric)\n",
    "\n",
    "plt.xlabel(\"Model\")\n",
    "plt.ylabel(\"Error Value\")\n",
    "plt.title(\"Error Metrics Comparison Across Models\")\n",
    "plt.xticks(x + 0.2, df_results[\"Model\"], rotation=45)\n",
    "plt.legend()\n",
    "plt.grid(axis=\"y\", linestyle=\"--\", alpha=0.5)\n",
    "plt.show()"
   ]
  },
  {
   "cell_type": "markdown",
   "metadata": {},
   "source": [
    "## Scaled Features"
   ]
  },
  {
   "cell_type": "code",
   "execution_count": 6,
   "metadata": {},
   "outputs": [
    {
     "name": "stdout",
     "output_type": "stream",
     "text": [
      "Fitting 5 folds for each of 5 candidates, totalling 25 fits\n",
      "Fitting 5 folds for each of 5 candidates, totalling 25 fits\n"
     ]
    },
    {
     "data": {
      "text/html": [
       "<div>\n",
       "<style scoped>\n",
       "    .dataframe tbody tr th:only-of-type {\n",
       "        vertical-align: middle;\n",
       "    }\n",
       "\n",
       "    .dataframe tbody tr th {\n",
       "        vertical-align: top;\n",
       "    }\n",
       "\n",
       "    .dataframe thead th {\n",
       "        text-align: right;\n",
       "    }\n",
       "</style>\n",
       "<table border=\"1\" class=\"dataframe\">\n",
       "  <thead>\n",
       "    <tr style=\"text-align: right;\">\n",
       "      <th></th>\n",
       "      <th>Model</th>\n",
       "      <th>Best Params</th>\n",
       "      <th>MAE</th>\n",
       "      <th>MAE Std</th>\n",
       "      <th>RMSE</th>\n",
       "      <th>RMSE Std</th>\n",
       "      <th>MSE</th>\n",
       "      <th>MSE Std</th>\n",
       "      <th>R2</th>\n",
       "      <th>R2 Std</th>\n",
       "    </tr>\n",
       "  </thead>\n",
       "  <tbody>\n",
       "    <tr>\n",
       "      <th>0</th>\n",
       "      <td>Linear Regression</td>\n",
       "      <td>N/A</td>\n",
       "      <td>0.241090</td>\n",
       "      <td>0.146091</td>\n",
       "      <td>0.435330</td>\n",
       "      <td>0.259650</td>\n",
       "      <td>0.189512</td>\n",
       "      <td>0.248603</td>\n",
       "      <td>-0.519966</td>\n",
       "      <td>0.416523</td>\n",
       "    </tr>\n",
       "    <tr>\n",
       "      <th>1</th>\n",
       "      <td>Ridge Regression</td>\n",
       "      <td>{'alpha': 10}</td>\n",
       "      <td>0.239893</td>\n",
       "      <td>0.145996</td>\n",
       "      <td>0.436279</td>\n",
       "      <td>0.504130</td>\n",
       "      <td>0.190339</td>\n",
       "      <td>0.254147</td>\n",
       "      <td>-0.512194</td>\n",
       "      <td>0.400157</td>\n",
       "    </tr>\n",
       "    <tr>\n",
       "      <th>2</th>\n",
       "      <td>Lasso Regression</td>\n",
       "      <td>{'alpha': 0.001}</td>\n",
       "      <td>0.240808</td>\n",
       "      <td>0.145874</td>\n",
       "      <td>0.435148</td>\n",
       "      <td>0.499043</td>\n",
       "      <td>0.189354</td>\n",
       "      <td>0.249044</td>\n",
       "      <td>-0.517265</td>\n",
       "      <td>0.415509</td>\n",
       "    </tr>\n",
       "  </tbody>\n",
       "</table>\n",
       "</div>"
      ],
      "text/plain": [
       "               Model       Best Params       MAE   MAE Std      RMSE  \\\n",
       "0  Linear Regression               N/A  0.241090  0.146091  0.435330   \n",
       "1   Ridge Regression     {'alpha': 10}  0.239893  0.145996  0.436279   \n",
       "2   Lasso Regression  {'alpha': 0.001}  0.240808  0.145874  0.435148   \n",
       "\n",
       "   RMSE Std       MSE   MSE Std        R2    R2 Std  \n",
       "0  0.259650  0.189512  0.248603 -0.519966  0.416523  \n",
       "1  0.504130  0.190339  0.254147 -0.512194  0.400157  \n",
       "2  0.499043  0.189354  0.249044 -0.517265  0.415509  "
      ]
     },
     "execution_count": 6,
     "metadata": {},
     "output_type": "execute_result"
    }
   ],
   "source": [
    "X = dataset_scaled[['disaster_cost_adjusted', 'human_outbreaks_per_million', 'covid_hospitalization_per_million', 'infected_flock_cnt', 'infected_h5n1_people_cnt', 'gas_price_per_gallon', 'temp_variance']].copy()\n",
    "Y = dataset_scaled.loc[:, TARGET_VAR:TARGET_VAR] # Extract the target variable (Y)\n",
    "\n",
    "# List to store all results\n",
    "results_list = []\n",
    "scoring = {\n",
    "    \"MSE\": make_scorer(mean_squared_error, greater_is_better=False),\n",
    "    \"MAE\": make_scorer(mean_absolute_error, greater_is_better=False),\n",
    "    \"R2\": make_scorer(r2_score)\n",
    "}\n",
    "\n",
    "# Loop through models\n",
    "for name, model in models.items():\n",
    "    if name in param_grids:  # Apply GridSearchCV if hyperparameters exist\n",
    "        grid_search = GridSearchCV(\n",
    "            model, param_grids[name], \n",
    "            cv=5, scoring=scoring, refit=\"R2\", n_jobs=-1, verbose=1\n",
    "        )\n",
    "        grid_search.fit(X, Y)\n",
    "\n",
    "        # Get best hyperparameters and model\n",
    "        best_params = grid_search.best_params_\n",
    "        best_model = grid_search.best_estimator_\n",
    "\n",
    "        # Extract cross-validation results from GridSearchCV\n",
    "        cv_results = grid_search.cv_results_\n",
    "        best_index = grid_search.best_index_\n",
    "\n",
    "        # Extract precomputed metrics\n",
    "        mean_mae = -cv_results[\"mean_test_MAE\"][best_index]\n",
    "        std_mae = cv_results[\"std_test_MAE\"][best_index]\n",
    "        mean_mse = -cv_results[\"mean_test_MSE\"][best_index]\n",
    "        std_mse = cv_results[\"std_test_MSE\"][best_index]\n",
    "        mean_rmse = np.sqrt(mean_mse)\n",
    "        std_rmse = np.sqrt(std_mse)  # Direct RMSE std calculation\n",
    "        mean_r2 = cv_results[\"mean_test_R2\"][best_index]\n",
    "        std_r2 = cv_results[\"std_test_R2\"][best_index]\n",
    "\n",
    "    else:\n",
    "        model.fit(X, Y)  # Train model directly if no hyperparameters\n",
    "        best_params = \"N/A\"\n",
    "        best_model = model\n",
    "\n",
    "        # Perform 5-fold CV only if GridSearchCV was not used\n",
    "        scores = cross_validate(best_model, X, Y, cv=5, scoring=scoring)\n",
    "\n",
    "        # Extract metrics from cross-validation results\n",
    "        mean_mae = -np.mean(scores[\"test_MAE\"])\n",
    "        std_mae = np.std(scores[\"test_MAE\"])\n",
    "        mean_mse = -np.mean(scores[\"test_MSE\"])\n",
    "        std_mse = np.std(scores[\"test_MSE\"])\n",
    "        mean_rmse = np.sqrt(mean_mse)\n",
    "        std_rmse = np.std(np.sqrt(-scores[\"test_MSE\"]))\n",
    "        mean_r2 = np.mean(scores[\"test_R2\"])\n",
    "        std_r2 = np.std(scores[\"test_R2\"])\n",
    "\n",
    "    # Store results\n",
    "    results_list.append({\n",
    "        'Model': name,\n",
    "        'Best Params': best_params,\n",
    "        'MAE': mean_mae,\n",
    "        'MAE Std': std_mae,\n",
    "        'RMSE': mean_rmse,\n",
    "        'RMSE Std': std_rmse,\n",
    "        'MSE': mean_mse,\n",
    "        'MSE Std': std_mse,\n",
    "        'R2': mean_r2,\n",
    "        'R2 Std': std_r2\n",
    "    })\n",
    "\n",
    "# Convert results to a DataFrame\n",
    "df_results = pd.DataFrame(results_list)\n",
    "df_results.head()"
   ]
  },
  {
   "cell_type": "markdown",
   "metadata": {},
   "source": [
    "# SHAP"
   ]
  },
  {
   "cell_type": "code",
   "execution_count": 7,
   "metadata": {},
   "outputs": [],
   "source": [
    "import shap\n",
    "from sklearn.model_selection import train_test_split"
   ]
  },
  {
   "cell_type": "code",
   "execution_count": 8,
   "metadata": {},
   "outputs": [],
   "source": [
    "X = dataset[['disaster_cost_adjusted', 'human_outbreaks_per_million', 'covid_hospitalization_per_million', 'infected_flock_cnt', 'infected_h5n1_people_cnt', 'gas_price_per_gallon', 'temp_variance']].copy()\n",
    "Y = dataset.loc[:, TARGET_VAR:TARGET_VAR] # Extract the target variable (Y)\n",
    "X_train, X_test, y_train, y_test = train_test_split(\n",
    "  X,Y , random_state=104,test_size=0.2, shuffle=True)"
   ]
  },
  {
   "cell_type": "code",
   "execution_count": 9,
   "metadata": {},
   "outputs": [
    {
     "data": {
      "text/html": [
       "<style>#sk-container-id-1 {color: black;background-color: white;}#sk-container-id-1 pre{padding: 0;}#sk-container-id-1 div.sk-toggleable {background-color: white;}#sk-container-id-1 label.sk-toggleable__label {cursor: pointer;display: block;width: 100%;margin-bottom: 0;padding: 0.3em;box-sizing: border-box;text-align: center;}#sk-container-id-1 label.sk-toggleable__label-arrow:before {content: \"▸\";float: left;margin-right: 0.25em;color: #696969;}#sk-container-id-1 label.sk-toggleable__label-arrow:hover:before {color: black;}#sk-container-id-1 div.sk-estimator:hover label.sk-toggleable__label-arrow:before {color: black;}#sk-container-id-1 div.sk-toggleable__content {max-height: 0;max-width: 0;overflow: hidden;text-align: left;background-color: #f0f8ff;}#sk-container-id-1 div.sk-toggleable__content pre {margin: 0.2em;color: black;border-radius: 0.25em;background-color: #f0f8ff;}#sk-container-id-1 input.sk-toggleable__control:checked~div.sk-toggleable__content {max-height: 200px;max-width: 100%;overflow: auto;}#sk-container-id-1 input.sk-toggleable__control:checked~label.sk-toggleable__label-arrow:before {content: \"▾\";}#sk-container-id-1 div.sk-estimator input.sk-toggleable__control:checked~label.sk-toggleable__label {background-color: #d4ebff;}#sk-container-id-1 div.sk-label input.sk-toggleable__control:checked~label.sk-toggleable__label {background-color: #d4ebff;}#sk-container-id-1 input.sk-hidden--visually {border: 0;clip: rect(1px 1px 1px 1px);clip: rect(1px, 1px, 1px, 1px);height: 1px;margin: -1px;overflow: hidden;padding: 0;position: absolute;width: 1px;}#sk-container-id-1 div.sk-estimator {font-family: monospace;background-color: #f0f8ff;border: 1px dotted black;border-radius: 0.25em;box-sizing: border-box;margin-bottom: 0.5em;}#sk-container-id-1 div.sk-estimator:hover {background-color: #d4ebff;}#sk-container-id-1 div.sk-parallel-item::after {content: \"\";width: 100%;border-bottom: 1px solid gray;flex-grow: 1;}#sk-container-id-1 div.sk-label:hover label.sk-toggleable__label {background-color: #d4ebff;}#sk-container-id-1 div.sk-serial::before {content: \"\";position: absolute;border-left: 1px solid gray;box-sizing: border-box;top: 0;bottom: 0;left: 50%;z-index: 0;}#sk-container-id-1 div.sk-serial {display: flex;flex-direction: column;align-items: center;background-color: white;padding-right: 0.2em;padding-left: 0.2em;position: relative;}#sk-container-id-1 div.sk-item {position: relative;z-index: 1;}#sk-container-id-1 div.sk-parallel {display: flex;align-items: stretch;justify-content: center;background-color: white;position: relative;}#sk-container-id-1 div.sk-item::before, #sk-container-id-1 div.sk-parallel-item::before {content: \"\";position: absolute;border-left: 1px solid gray;box-sizing: border-box;top: 0;bottom: 0;left: 50%;z-index: -1;}#sk-container-id-1 div.sk-parallel-item {display: flex;flex-direction: column;z-index: 1;position: relative;background-color: white;}#sk-container-id-1 div.sk-parallel-item:first-child::after {align-self: flex-end;width: 50%;}#sk-container-id-1 div.sk-parallel-item:last-child::after {align-self: flex-start;width: 50%;}#sk-container-id-1 div.sk-parallel-item:only-child::after {width: 0;}#sk-container-id-1 div.sk-dashed-wrapped {border: 1px dashed gray;margin: 0 0.4em 0.5em 0.4em;box-sizing: border-box;padding-bottom: 0.4em;background-color: white;}#sk-container-id-1 div.sk-label label {font-family: monospace;font-weight: bold;display: inline-block;line-height: 1.2em;}#sk-container-id-1 div.sk-label-container {text-align: center;}#sk-container-id-1 div.sk-container {/* jupyter's `normalize.less` sets `[hidden] { display: none; }` but bootstrap.min.css set `[hidden] { display: none !important; }` so we also need the `!important` here to be able to override the default hidden behavior on the sphinx rendered scikit-learn.org. See: https://github.com/scikit-learn/scikit-learn/issues/21755 */display: inline-block !important;position: relative;}#sk-container-id-1 div.sk-text-repr-fallback {display: none;}</style><div id=\"sk-container-id-1\" class=\"sk-top-container\"><div class=\"sk-text-repr-fallback\"><pre>LinearRegression()</pre><b>In a Jupyter environment, please rerun this cell to show the HTML representation or trust the notebook. <br />On GitHub, the HTML representation is unable to render, please try loading this page with nbviewer.org.</b></div><div class=\"sk-container\" hidden><div class=\"sk-item\"><div class=\"sk-estimator sk-toggleable\"><input class=\"sk-toggleable__control sk-hidden--visually\" id=\"sk-estimator-id-1\" type=\"checkbox\" checked><label for=\"sk-estimator-id-1\" class=\"sk-toggleable__label sk-toggleable__label-arrow\">LinearRegression</label><div class=\"sk-toggleable__content\"><pre>LinearRegression()</pre></div></div></div></div></div>"
      ],
      "text/plain": [
       "LinearRegression()"
      ]
     },
     "execution_count": 9,
     "metadata": {},
     "output_type": "execute_result"
    }
   ],
   "source": [
    "# Create Best Linear Regression\n",
    "model = LinearRegression()\n",
    "model.fit(X_train, y_train)"
   ]
  },
  {
   "cell_type": "code",
   "execution_count": 10,
   "metadata": {},
   "outputs": [],
   "source": [
    "explainer = shap.Explainer(model, X_train)\n",
    "shap_values = explainer(X_train)\n"
   ]
  },
  {
   "cell_type": "code",
   "execution_count": 11,
   "metadata": {},
   "outputs": [
    {
     "data": {
      "image/png": "[encoded data removed]",
      "text/plain": [
       "<Figure size 800x430 with 2 Axes>"
      ]
     },
     "metadata": {},
     "output_type": "display_data"
    }
   ],
   "source": [
    "shap.summary_plot(shap_values, X_train)\n"
   ]
  },
  {
   "cell_type": "markdown",
   "metadata": {},
   "source": [
    "# Example Prediction"
   ]
  },
  {
   "cell_type": "code",
   "execution_count": 17,
   "metadata": {},
   "outputs": [],
   "source": [
    "X_example = X.tail(5)"
   ]
  },
  {
   "cell_type": "code",
   "execution_count": 19,
   "metadata": {},
   "outputs": [
    {
     "data": {
      "text/html": [
       "<div>\n",
       "<style scoped>\n",
       "    .dataframe tbody tr th:only-of-type {\n",
       "        vertical-align: middle;\n",
       "    }\n",
       "\n",
       "    .dataframe tbody tr th {\n",
       "        vertical-align: top;\n",
       "    }\n",
       "\n",
       "    .dataframe thead th {\n",
       "        text-align: right;\n",
       "    }\n",
       "</style>\n",
       "<table border=\"1\" class=\"dataframe\">\n",
       "  <thead>\n",
       "    <tr style=\"text-align: right;\">\n",
       "      <th></th>\n",
       "      <th>disaster_cost_adjusted</th>\n",
       "      <th>human_outbreaks_per_million</th>\n",
       "      <th>covid_hospitalization_per_million</th>\n",
       "      <th>infected_flock_cnt</th>\n",
       "      <th>infected_h5n1_people_cnt</th>\n",
       "      <th>gas_price_per_gallon</th>\n",
       "      <th>temp_variance</th>\n",
       "    </tr>\n",
       "  </thead>\n",
       "  <tbody>\n",
       "    <tr>\n",
       "      <th>536</th>\n",
       "      <td>11.290414</td>\n",
       "      <td>0.0</td>\n",
       "      <td>0.0</td>\n",
       "      <td>2.0</td>\n",
       "      <td>0.0</td>\n",
       "      <td>3.478</td>\n",
       "      <td>14.476570</td>\n",
       "    </tr>\n",
       "    <tr>\n",
       "      <th>537</th>\n",
       "      <td>10.442569</td>\n",
       "      <td>0.0</td>\n",
       "      <td>0.0</td>\n",
       "      <td>6.0</td>\n",
       "      <td>0.0</td>\n",
       "      <td>3.412</td>\n",
       "      <td>4.655387</td>\n",
       "    </tr>\n",
       "    <tr>\n",
       "      <th>538</th>\n",
       "      <td>3.653720</td>\n",
       "      <td>0.0</td>\n",
       "      <td>0.0</td>\n",
       "      <td>23.0</td>\n",
       "      <td>0.0</td>\n",
       "      <td>3.315</td>\n",
       "      <td>8.545652</td>\n",
       "    </tr>\n",
       "    <tr>\n",
       "      <th>539</th>\n",
       "      <td>3.653720</td>\n",
       "      <td>0.0</td>\n",
       "      <td>0.0</td>\n",
       "      <td>82.0</td>\n",
       "      <td>0.0</td>\n",
       "      <td>3.277</td>\n",
       "      <td>5.038165</td>\n",
       "    </tr>\n",
       "    <tr>\n",
       "      <th>540</th>\n",
       "      <td>0.000000</td>\n",
       "      <td>0.0</td>\n",
       "      <td>0.0</td>\n",
       "      <td>32.0</td>\n",
       "      <td>6.0</td>\n",
       "      <td>3.342</td>\n",
       "      <td>6.381190</td>\n",
       "    </tr>\n",
       "  </tbody>\n",
       "</table>\n",
       "</div>"
      ],
      "text/plain": [
       "     disaster_cost_adjusted  human_outbreaks_per_million  \\\n",
       "536               11.290414                          0.0   \n",
       "537               10.442569                          0.0   \n",
       "538                3.653720                          0.0   \n",
       "539                3.653720                          0.0   \n",
       "540                0.000000                          0.0   \n",
       "\n",
       "     covid_hospitalization_per_million  infected_flock_cnt  \\\n",
       "536                                0.0                 2.0   \n",
       "537                                0.0                 6.0   \n",
       "538                                0.0                23.0   \n",
       "539                                0.0                82.0   \n",
       "540                                0.0                32.0   \n",
       "\n",
       "     infected_h5n1_people_cnt  gas_price_per_gallon  temp_variance  \n",
       "536                       0.0                 3.478      14.476570  \n",
       "537                       0.0                 3.412       4.655387  \n",
       "538                       0.0                 3.315       8.545652  \n",
       "539                       0.0                 3.277       5.038165  \n",
       "540                       6.0                 3.342       6.381190  "
      ]
     },
     "execution_count": 19,
     "metadata": {},
     "output_type": "execute_result"
    }
   ],
   "source": [
    "X_example"
   ]
  },
  {
   "cell_type": "code",
   "execution_count": 18,
   "metadata": {},
   "outputs": [
    {
     "data": {
      "text/plain": [
       "array([[1.99129539],\n",
       "       [2.08263476],\n",
       "       [2.54790501],\n",
       "       [4.39036573],\n",
       "       [2.83113264]])"
      ]
     },
     "execution_count": 18,
     "metadata": {},
     "output_type": "execute_result"
    }
   ],
   "source": [
    "model.predict(X_example)"
   ]
  },
  {
   "cell_type": "code",
   "execution_count": 15,
   "metadata": {},
   "outputs": [
    {
     "data": {
      "text/html": [
       "<div>\n",
       "<style scoped>\n",
       "    .dataframe tbody tr th:only-of-type {\n",
       "        vertical-align: middle;\n",
       "    }\n",
       "\n",
       "    .dataframe tbody tr th {\n",
       "        vertical-align: top;\n",
       "    }\n",
       "\n",
       "    .dataframe thead th {\n",
       "        text-align: right;\n",
       "    }\n",
       "</style>\n",
       "<table border=\"1\" class=\"dataframe\">\n",
       "  <thead>\n",
       "    <tr style=\"text-align: right;\">\n",
       "      <th></th>\n",
       "      <th>price_per_dozen</th>\n",
       "    </tr>\n",
       "  </thead>\n",
       "  <tbody>\n",
       "    <tr>\n",
       "      <th>536</th>\n",
       "      <td>3.821</td>\n",
       "    </tr>\n",
       "    <tr>\n",
       "      <th>537</th>\n",
       "      <td>3.370</td>\n",
       "    </tr>\n",
       "    <tr>\n",
       "      <th>538</th>\n",
       "      <td>3.649</td>\n",
       "    </tr>\n",
       "    <tr>\n",
       "      <th>539</th>\n",
       "      <td>4.146</td>\n",
       "    </tr>\n",
       "    <tr>\n",
       "      <th>540</th>\n",
       "      <td>4.953</td>\n",
       "    </tr>\n",
       "  </tbody>\n",
       "</table>\n",
       "</div>"
      ],
      "text/plain": [
       "     price_per_dozen\n",
       "536            3.821\n",
       "537            3.370\n",
       "538            3.649\n",
       "539            4.146\n",
       "540            4.953"
      ]
     },
     "execution_count": 15,
     "metadata": {},
     "output_type": "execute_result"
    }
   ],
   "source": [
    "Y.tail(5)"
   ]
  },
  {
   "cell_type": "code",
   "execution_count": null,
   "metadata": {},
   "outputs": [
    {
     "data": {
      "text/plain": [
       "price_per_dozen    4.953\n",
       "dtype: float64"
      ]
     },
     "execution_count": 16,
     "metadata": {},
     "output_type": "execute_result"
    }
   ],
   "source": []
  },
  {
   "cell_type": "code",
   "execution_count": null,
   "metadata": {},
   "outputs": [],
   "source": []
  }
 ],
 "metadata": {
  "kernelspec": {
   "display_name": "base",
   "language": "python",
   "name": "python3"
  },
  "language_info": {
   "codemirror_mode": {
    "name": "ipython",
    "version": 3
   },
   "file_extension": ".py",
   "mimetype": "text/x-python",
   "name": "python",
   "nbconvert_exporter": "python",
   "pygments_lexer": "ipython3",
   "version": "3.11.7"
  }
 },
 "nbformat": 4,
 "nbformat_minor": 2
}
