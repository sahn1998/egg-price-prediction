{
 "cells": [
  {
   "cell_type": "code",
   "execution_count": null,
   "metadata": {},
   "outputs": [],
   "source": [
    "import pandas as pd\n",
    "import numpy as np\n",
    "from pathlib import Path\n",
    "import matplotlib.pyplot as plt\n",
    "\n",
    "from sklearn.linear_model import Lasso, Ridge, LinearRegression\n",
    "from sklearn.metrics import mean_squared_error, mean_absolute_error, r2_score, make_scorer\n",
    "\n",
    "from sklearn.model_selection import GridSearchCV"
   ]
  },
  {
   "cell_type": "markdown",
   "metadata": {},
   "source": [
    "# Setting"
   ]
  },
  {
   "cell_type": "code",
   "execution_count": null,
   "metadata": {},
   "outputs": [],
   "source": [
    "# path to where we our preprocessed data is\n",
    "data_file_path = Path(\"../data\")\n",
    "\n",
    "# path to where we save our model results\n",
    "model_results_file_path = Path(\"./model_results\")\n",
    "\n",
    "# target variable\n",
    "TARGET_VAR = \"price_per_dozen\"\n",
    "\n",
    "# Initialize models\n",
    "models = {\n",
    "    \"Linear Regression\": LinearRegression(),\n",
    "    \"Ridge Regression\": Ridge(),\n",
    "    \"Lasso Regression\": Lasso()\n",
    "}\n",
    "\n",
    "# Hyperparameter grids\n",
    "param_grids = {\n",
    "    \"Ridge Regression\": {\"alpha\": [0.01, 0.1, 1, 10, 100]},\n",
    "    \"Lasso Regression\": {\"alpha\": [0.001, 0.01, 0.1, 1, 10]}\n",
    "}\n",
    "\n",
    "# Load Dataset\n",
    "dataset = pd.read_csv(f'{data_file_path}/merged_data.csv', index_col=0)\n",
    "\n",
    "# --------- If we want to use Kfold (n = 5) -------- #\n",
    "# kf = KFold(n_splits=5, shuffle=True, random_state=42)\n",
    "# results = {}\n",
    "# fold = 1\n",
    "\n",
    "# for train_index, val_index in kf.split(X):\n",
    "#     X_train, X_val = X.iloc[train_index], X.iloc[val_index]\n",
    "#     y_train, y_val = Y.iloc[train_index], Y.iloc[val_index]\n",
    "\n",
    "#     Model evaluation here\n",
    "\n",
    "#     fold += 1"
   ]
  },
  {
   "cell_type": "code",
   "execution_count": 24,
   "metadata": {},
   "outputs": [
    {
     "data": {
      "application/vnd.microsoft.datawrangler.viewer.v0+json": {
       "columns": [
        {
         "name": "index",
         "rawType": "int64",
         "type": "integer"
        },
        {
         "name": "disaster_cost_adjusted",
         "rawType": "float64",
         "type": "float"
        },
        {
         "name": "human_outbreaks_per_million",
         "rawType": "float64",
         "type": "float"
        },
        {
         "name": "covid_hospitalization_per_million",
         "rawType": "float64",
         "type": "float"
        },
        {
         "name": "infected_flock_cnt",
         "rawType": "float64",
         "type": "float"
        },
        {
         "name": "infected_h5n1_people_cnt",
         "rawType": "float64",
         "type": "float"
        },
        {
         "name": "gas_price_per_gallon",
         "rawType": "float64",
         "type": "float"
        },
        {
         "name": "temp_variance",
         "rawType": "float64",
         "type": "float"
        }
       ],
       "conversionMethod": "pd.DataFrame",
       "ref": "b0c0eebd-c300-4d4a-8e46-ab2df905515c",
       "rows": [
        [
         "0",
         "0.0",
         "0.0",
         "0.0",
         "0.0",
         "0.0",
         "1.11",
         "2.605921135139265"
        ],
        [
         "1",
         "0.0",
         "0.0",
         "0.0",
         "0.0",
         "0.0",
         "1.186",
         "5.400544791053246"
        ],
        [
         "2",
         "0.0",
         "0.0",
         "0.0",
         "0.0",
         "0.0",
         "1.23",
         "16.77146687906545"
        ],
        [
         "3",
         "7.919501599122385",
         "0.0",
         "0.0",
         "0.0",
         "0.0",
         "1.242",
         "1.6696747643701002"
        ],
        [
         "4",
         "0.0",
         "0.0",
         "0.0",
         "0.0",
         "0.0",
         "1.244",
         "11.37584494889154"
        ]
       ],
       "shape": {
        "columns": 7,
        "rows": 5
       }
      },
      "text/html": [
       "<div>\n",
       "<style scoped>\n",
       "    .dataframe tbody tr th:only-of-type {\n",
       "        vertical-align: middle;\n",
       "    }\n",
       "\n",
       "    .dataframe tbody tr th {\n",
       "        vertical-align: top;\n",
       "    }\n",
       "\n",
       "    .dataframe thead th {\n",
       "        text-align: right;\n",
       "    }\n",
       "</style>\n",
       "<table border=\"1\" class=\"dataframe\">\n",
       "  <thead>\n",
       "    <tr style=\"text-align: right;\">\n",
       "      <th></th>\n",
       "      <th>disaster_cost_adjusted</th>\n",
       "      <th>human_outbreaks_per_million</th>\n",
       "      <th>covid_hospitalization_per_million</th>\n",
       "      <th>infected_flock_cnt</th>\n",
       "      <th>infected_h5n1_people_cnt</th>\n",
       "      <th>gas_price_per_gallon</th>\n",
       "      <th>temp_variance</th>\n",
       "    </tr>\n",
       "  </thead>\n",
       "  <tbody>\n",
       "    <tr>\n",
       "      <th>0</th>\n",
       "      <td>0.000000</td>\n",
       "      <td>0.0</td>\n",
       "      <td>0.0</td>\n",
       "      <td>0.0</td>\n",
       "      <td>0.0</td>\n",
       "      <td>1.110</td>\n",
       "      <td>2.605921</td>\n",
       "    </tr>\n",
       "    <tr>\n",
       "      <th>1</th>\n",
       "      <td>0.000000</td>\n",
       "      <td>0.0</td>\n",
       "      <td>0.0</td>\n",
       "      <td>0.0</td>\n",
       "      <td>0.0</td>\n",
       "      <td>1.186</td>\n",
       "      <td>5.400545</td>\n",
       "    </tr>\n",
       "    <tr>\n",
       "      <th>2</th>\n",
       "      <td>0.000000</td>\n",
       "      <td>0.0</td>\n",
       "      <td>0.0</td>\n",
       "      <td>0.0</td>\n",
       "      <td>0.0</td>\n",
       "      <td>1.230</td>\n",
       "      <td>16.771467</td>\n",
       "    </tr>\n",
       "    <tr>\n",
       "      <th>3</th>\n",
       "      <td>7.919502</td>\n",
       "      <td>0.0</td>\n",
       "      <td>0.0</td>\n",
       "      <td>0.0</td>\n",
       "      <td>0.0</td>\n",
       "      <td>1.242</td>\n",
       "      <td>1.669675</td>\n",
       "    </tr>\n",
       "    <tr>\n",
       "      <th>4</th>\n",
       "      <td>0.000000</td>\n",
       "      <td>0.0</td>\n",
       "      <td>0.0</td>\n",
       "      <td>0.0</td>\n",
       "      <td>0.0</td>\n",
       "      <td>1.244</td>\n",
       "      <td>11.375845</td>\n",
       "    </tr>\n",
       "  </tbody>\n",
       "</table>\n",
       "</div>"
      ],
      "text/plain": [
       "   disaster_cost_adjusted  human_outbreaks_per_million  \\\n",
       "0                0.000000                          0.0   \n",
       "1                0.000000                          0.0   \n",
       "2                0.000000                          0.0   \n",
       "3                7.919502                          0.0   \n",
       "4                0.000000                          0.0   \n",
       "\n",
       "   covid_hospitalization_per_million  infected_flock_cnt  \\\n",
       "0                                0.0                 0.0   \n",
       "1                                0.0                 0.0   \n",
       "2                                0.0                 0.0   \n",
       "3                                0.0                 0.0   \n",
       "4                                0.0                 0.0   \n",
       "\n",
       "   infected_h5n1_people_cnt  gas_price_per_gallon  temp_variance  \n",
       "0                       0.0                 1.110       2.605921  \n",
       "1                       0.0                 1.186       5.400545  \n",
       "2                       0.0                 1.230      16.771467  \n",
       "3                       0.0                 1.242       1.669675  \n",
       "4                       0.0                 1.244      11.375845  "
      ]
     },
     "execution_count": 24,
     "metadata": {},
     "output_type": "execute_result"
    }
   ],
   "source": [
    "X = dataset[['disaster_cost_adjusted', 'human_outbreaks_per_million', 'covid_hospitalization_per_million', 'infected_flock_cnt', 'infected_h5n1_people_cnt', 'gas_price_per_gallon', 'temp_variance']].copy()\n",
    "Y = dataset.loc[:, TARGET_VAR:TARGET_VAR] # Extract the target variable (Y)\n",
    "\n",
    "X.head()"
   ]
  },
  {
   "cell_type": "markdown",
   "metadata": {},
   "source": [
    "# Regression"
   ]
  },
  {
   "cell_type": "code",
   "execution_count": 21,
   "metadata": {},
   "outputs": [
    {
     "name": "stdout",
     "output_type": "stream",
     "text": [
      "Fitting 5 folds for each of 5 candidates, totalling 25 fits\n",
      "Fitting 5 folds for each of 5 candidates, totalling 25 fits\n"
     ]
    },
    {
     "data": {
      "application/vnd.microsoft.datawrangler.viewer.v0+json": {
       "columns": [
        {
         "name": "index",
         "rawType": "int64",
         "type": "integer"
        },
        {
         "name": "Model",
         "rawType": "object",
         "type": "string"
        },
        {
         "name": "Best Params",
         "rawType": "object",
         "type": "unknown"
        },
        {
         "name": "MAE",
         "rawType": "float64",
         "type": "float"
        },
        {
         "name": "RMSE",
         "rawType": "float64",
         "type": "float"
        },
        {
         "name": "MSE",
         "rawType": "float64",
         "type": "float"
        },
        {
         "name": "R2",
         "rawType": "float64",
         "type": "float"
        }
       ],
       "conversionMethod": "pd.DataFrame",
       "ref": "0883b0e2-ad4a-436d-a3d2-079567b68b6e",
       "rows": [
        [
         "0",
         "Linear Regression",
         "N/A",
         "0.2037152848609608",
         "0.3436637838366011",
         "0.1181047963208901",
         "0.7151057293714616"
        ],
        [
         "1",
         "Ridge Regression",
         "{'alpha': 10}",
         "0.20331308950361043",
         "0.3437848647997549",
         "0.11818803326538575",
         "0.714904943888313"
        ],
        [
         "2",
         "Lasso Regression",
         "{'alpha': 0.001}",
         "0.20365381481555306",
         "0.34366977546124144",
         "0.11810891456558012",
         "0.7150957952760328"
        ]
       ],
       "shape": {
        "columns": 6,
        "rows": 3
       }
      },
      "text/html": [
       "<div>\n",
       "<style scoped>\n",
       "    .dataframe tbody tr th:only-of-type {\n",
       "        vertical-align: middle;\n",
       "    }\n",
       "\n",
       "    .dataframe tbody tr th {\n",
       "        vertical-align: top;\n",
       "    }\n",
       "\n",
       "    .dataframe thead th {\n",
       "        text-align: right;\n",
       "    }\n",
       "</style>\n",
       "<table border=\"1\" class=\"dataframe\">\n",
       "  <thead>\n",
       "    <tr style=\"text-align: right;\">\n",
       "      <th></th>\n",
       "      <th>Model</th>\n",
       "      <th>Best Params</th>\n",
       "      <th>MAE</th>\n",
       "      <th>RMSE</th>\n",
       "      <th>MSE</th>\n",
       "      <th>R2</th>\n",
       "    </tr>\n",
       "  </thead>\n",
       "  <tbody>\n",
       "    <tr>\n",
       "      <th>0</th>\n",
       "      <td>Linear Regression</td>\n",
       "      <td>N/A</td>\n",
       "      <td>0.203715</td>\n",
       "      <td>0.343664</td>\n",
       "      <td>0.118105</td>\n",
       "      <td>0.715106</td>\n",
       "    </tr>\n",
       "    <tr>\n",
       "      <th>1</th>\n",
       "      <td>Ridge Regression</td>\n",
       "      <td>{'alpha': 10}</td>\n",
       "      <td>0.203313</td>\n",
       "      <td>0.343785</td>\n",
       "      <td>0.118188</td>\n",
       "      <td>0.714905</td>\n",
       "    </tr>\n",
       "    <tr>\n",
       "      <th>2</th>\n",
       "      <td>Lasso Regression</td>\n",
       "      <td>{'alpha': 0.001}</td>\n",
       "      <td>0.203654</td>\n",
       "      <td>0.343670</td>\n",
       "      <td>0.118109</td>\n",
       "      <td>0.715096</td>\n",
       "    </tr>\n",
       "  </tbody>\n",
       "</table>\n",
       "</div>"
      ],
      "text/plain": [
       "               Model       Best Params       MAE      RMSE       MSE        R2\n",
       "0  Linear Regression               N/A  0.203715  0.343664  0.118105  0.715106\n",
       "1   Ridge Regression     {'alpha': 10}  0.203313  0.343785  0.118188  0.714905\n",
       "2   Lasso Regression  {'alpha': 0.001}  0.203654  0.343670  0.118109  0.715096"
      ]
     },
     "execution_count": 21,
     "metadata": {},
     "output_type": "execute_result"
    }
   ],
   "source": [
    "X = dataset[['disaster_cost_adjusted', 'human_outbreaks_per_million', 'covid_hospitalization_per_million', 'infected_flock_cnt', 'infected_h5n1_people_cnt', 'gas_price_per_gallon', 'temp_variance']].copy()\n",
    "Y = dataset.loc[:, TARGET_VAR:TARGET_VAR] # Extract the target variable (Y)\n",
    "\n",
    "# List to store all results\n",
    "results_list = []\n",
    "scoring = {\n",
    "    \"MSE\": make_scorer(mean_squared_error, greater_is_better=False),\n",
    "    \"MAE\": make_scorer(mean_absolute_error, greater_is_better=False),\n",
    "    \"R2\": make_scorer(r2_score)\n",
    "}\n",
    "\n",
    "# Loop through models\n",
    "for name, model in models.items():\n",
    "    if name in param_grids:  # Apply GridSearchCV if hyperparameters exist\n",
    "        grid_search = GridSearchCV(\n",
    "            model, param_grids[name], \n",
    "            cv=5, scoring=scoring, refit=\"R2\", n_jobs=None, verbose=True\n",
    "        )\n",
    "        grid_search.fit(X, Y)\n",
    "\n",
    "        best_params = grid_search.best_params_\n",
    "        best_model = grid_search.best_estimator_\n",
    "    else:\n",
    "        model.fit(X, Y)  # Train model directly if no hyperparameters\n",
    "        best_params = \"N/A\"\n",
    "        best_model = model\n",
    "\n",
    "    # Predictions\n",
    "    Y_pred = best_model.predict(X)\n",
    "\n",
    "    # Calculate performance metrics\n",
    "    mae = mean_absolute_error(Y, Y_pred)\n",
    "    mse = mean_squared_error(Y, Y_pred)\n",
    "    rmse = np.sqrt(mse)\n",
    "    r2 = r2_score(Y, Y_pred)\n",
    "\n",
    "    # Store results\n",
    "    results_list.append({\n",
    "        'Model': name,\n",
    "        'Best Params': best_params,\n",
    "        'MAE': mae,\n",
    "        'RMSE': rmse,\n",
    "        'MSE': mse,\n",
    "        'R2': r2\n",
    "    })\n",
    "\n",
    "# Convert results to a DataFrame\n",
    "df_results = pd.DataFrame(results_list)\n",
    "df_results.head()"
   ]
  },
  {
   "cell_type": "code",
   "execution_count": 22,
   "metadata": {},
   "outputs": [],
   "source": [
    "df_results.to_csv(f'{model_results_file_path}/linear_ridge_lasso_cv_result.csv')"
   ]
  },
  {
   "cell_type": "code",
   "execution_count": 14,
   "metadata": {},
   "outputs": [
    {
     "data": {
      "image/png": "[encoded data removed]",
      "text/plain": [
       "<Figure size 1200x600 with 1 Axes>"
      ]
     },
     "metadata": {},
     "output_type": "display_data"
    }
   ],
   "source": [
    "import numpy as np\n",
    "\n",
    "metrics = [\"MSE\", \"RMSE\", \"MAE\", \"R2\"]\n",
    "x = np.arange(len(df_results))  # X-axis positions for models\n",
    "\n",
    "plt.figure(figsize=(12, 6))\n",
    "\n",
    "for i, metric in enumerate(metrics):\n",
    "    plt.bar(x + i * 0.2, df_results[metric], width=0.2, label=metric)\n",
    "\n",
    "plt.xlabel(\"Model\")\n",
    "plt.ylabel(\"Error Value\")\n",
    "plt.title(\"Error Metrics Comparison Across Models\")\n",
    "plt.xticks(x + 0.2, df_results[\"Model\"], rotation=45)\n",
    "plt.legend()\n",
    "plt.grid(axis=\"y\", linestyle=\"--\", alpha=0.5)\n",
    "plt.show()"
   ]
  }
 ],
 "metadata": {
  "kernelspec": {
   "display_name": "venv",
   "language": "python",
   "name": "python3"
  },
  "language_info": {
   "codemirror_mode": {
    "name": "ipython",
    "version": 3
   },
   "file_extension": ".py",
   "mimetype": "text/x-python",
   "name": "python",
   "nbconvert_exporter": "python",
   "pygments_lexer": "ipython3",
   "version": "3.13.0"
  }
 },
 "nbformat": 4,
 "nbformat_minor": 2
}
