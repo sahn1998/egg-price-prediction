{
 "cells": [
  {
   "cell_type": "code",
   "execution_count": 1,
   "metadata": {},
   "outputs": [],
   "source": [
    "import pandas as pd\n",
    "import numpy as np\n",
    "from pathlib import Path\n",
    "import matplotlib.pyplot as plt\n",
    "\n",
    "from sklearn.linear_model import Lasso, Ridge, LinearRegression\n",
    "from sklearn.metrics import mean_squared_error, mean_absolute_error, r2_score, make_scorer\n",
    "from sklearn.model_selection import GridSearchCV, cross_validate"
   ]
  },
  {
   "cell_type": "markdown",
   "metadata": {},
   "source": [
    "# Setting"
   ]
  },
  {
   "cell_type": "code",
   "execution_count": 2,
   "metadata": {},
   "outputs": [],
   "source": [
    "# path to where we our preprocessed data is\n",
    "data_file_path = Path(\"../data\")\n",
    "\n",
    "# path to where we save our model results\n",
    "model_results_file_path = Path(\"./model_results\")\n",
    "\n",
    "# target variable\n",
    "TARGET_VAR = \"price_per_dozen\"\n",
    "\n",
    "# Initialize models\n",
    "models = {\n",
    "    \"Linear Regression\": LinearRegression(),\n",
    "    \"Ridge Regression\": Ridge(),\n",
    "    \"Lasso Regression\": Lasso()\n",
    "}\n",
    "\n",
    "# Hyperparameter grids\n",
    "param_grids = {\n",
    "    \"Ridge Regression\": {\"alpha\": [0.01, 0.1, 1, 10, 100]},\n",
    "    \"Lasso Regression\": {\"alpha\": [0.001, 0.01, 0.1, 1, 10]}\n",
    "}\n",
    "\n",
    "# Load Dataset\n",
    "dataset = pd.read_csv(f'{data_file_path}/merged_data.csv', index_col=0)\n",
    "\n",
    "# --------- If we want to use Kfold (n = 5) -------- #\n",
    "# kf = KFold(n_splits=5, shuffle=True, random_state=42)\n",
    "# results = {}\n",
    "# fold = 1\n",
    "\n",
    "# for train_index, val_index in kf.split(X):\n",
    "#     X_train, X_val = X.iloc[train_index], X.iloc[val_index]\n",
    "#     y_train, y_val = Y.iloc[train_index], Y.iloc[val_index]\n",
    "\n",
    "#     Model evaluation here\n",
    "\n",
    "#     fold += 1"
   ]
  },
  {
   "cell_type": "markdown",
   "metadata": {},
   "source": [
    "# Regression"
   ]
  },
  {
   "cell_type": "code",
   "execution_count": 3,
   "metadata": {},
   "outputs": [
    {
     "name": "stdout",
     "output_type": "stream",
     "text": [
      "Fitting 5 folds for each of 5 candidates, totalling 25 fits\n",
      "Fitting 5 folds for each of 5 candidates, totalling 25 fits\n"
     ]
    },
    {
     "data": {
      "application/vnd.microsoft.datawrangler.viewer.v0+json": {
       "columns": [
        {
         "name": "index",
         "rawType": "int64",
         "type": "integer"
        },
        {
         "name": "Model",
         "rawType": "object",
         "type": "string"
        },
        {
         "name": "Best Params",
         "rawType": "object",
         "type": "unknown"
        },
        {
         "name": "MAE",
         "rawType": "float64",
         "type": "float"
        },
        {
         "name": "MAE Std",
         "rawType": "float64",
         "type": "float"
        },
        {
         "name": "RMSE",
         "rawType": "float64",
         "type": "float"
        },
        {
         "name": "RMSE Std",
         "rawType": "float64",
         "type": "float"
        },
        {
         "name": "MSE",
         "rawType": "float64",
         "type": "float"
        },
        {
         "name": "MSE Std",
         "rawType": "float64",
         "type": "float"
        },
        {
         "name": "R2",
         "rawType": "float64",
         "type": "float"
        },
        {
         "name": "R2 Std",
         "rawType": "float64",
         "type": "float"
        }
       ],
       "conversionMethod": "pd.DataFrame",
       "ref": "cc581d60-4da6-419e-86d8-e7af93b1fe46",
       "rows": [
        [
         "0",
         "Linear Regression",
         "N/A",
         "0.24109002293255433",
         "0.1460913122682939",
         "0.4353298921696289",
         "0.25965019991212857",
         "0.18951211501642076",
         "0.2486033999956965",
         "-0.5199656848895937",
         "0.41652326011536855"
        ],
        [
         "1",
         "Ridge Regression",
         "{'alpha': 10}",
         "0.23753338799125961",
         "0.14180465701392042",
         "0.4330826477420602",
         "0.49874455768857745",
         "0.1875605797752734",
         "0.24874613382397476",
         "-0.5132838108516957",
         "0.40928224408783415"
        ],
        [
         "2",
         "Lasso Regression",
         "{'alpha': 0.001}",
         "0.24044177431481523",
         "0.1451300889977602",
         "0.434552491683445",
         "0.4981127187559871",
         "0.18883586802829053",
         "0.2481162805864811",
         "-0.5180695451370334",
         "0.4141083936130308"
        ]
       ],
       "shape": {
        "columns": 10,
        "rows": 3
       }
      },
      "text/html": [
       "<div>\n",
       "<style scoped>\n",
       "    .dataframe tbody tr th:only-of-type {\n",
       "        vertical-align: middle;\n",
       "    }\n",
       "\n",
       "    .dataframe tbody tr th {\n",
       "        vertical-align: top;\n",
       "    }\n",
       "\n",
       "    .dataframe thead th {\n",
       "        text-align: right;\n",
       "    }\n",
       "</style>\n",
       "<table border=\"1\" class=\"dataframe\">\n",
       "  <thead>\n",
       "    <tr style=\"text-align: right;\">\n",
       "      <th></th>\n",
       "      <th>Model</th>\n",
       "      <th>Best Params</th>\n",
       "      <th>MAE</th>\n",
       "      <th>MAE Std</th>\n",
       "      <th>RMSE</th>\n",
       "      <th>RMSE Std</th>\n",
       "      <th>MSE</th>\n",
       "      <th>MSE Std</th>\n",
       "      <th>R2</th>\n",
       "      <th>R2 Std</th>\n",
       "    </tr>\n",
       "  </thead>\n",
       "  <tbody>\n",
       "    <tr>\n",
       "      <th>0</th>\n",
       "      <td>Linear Regression</td>\n",
       "      <td>N/A</td>\n",
       "      <td>0.241090</td>\n",
       "      <td>0.146091</td>\n",
       "      <td>0.435330</td>\n",
       "      <td>0.259650</td>\n",
       "      <td>0.189512</td>\n",
       "      <td>0.248603</td>\n",
       "      <td>-0.519966</td>\n",
       "      <td>0.416523</td>\n",
       "    </tr>\n",
       "    <tr>\n",
       "      <th>1</th>\n",
       "      <td>Ridge Regression</td>\n",
       "      <td>{'alpha': 10}</td>\n",
       "      <td>0.237533</td>\n",
       "      <td>0.141805</td>\n",
       "      <td>0.433083</td>\n",
       "      <td>0.498745</td>\n",
       "      <td>0.187561</td>\n",
       "      <td>0.248746</td>\n",
       "      <td>-0.513284</td>\n",
       "      <td>0.409282</td>\n",
       "    </tr>\n",
       "    <tr>\n",
       "      <th>2</th>\n",
       "      <td>Lasso Regression</td>\n",
       "      <td>{'alpha': 0.001}</td>\n",
       "      <td>0.240442</td>\n",
       "      <td>0.145130</td>\n",
       "      <td>0.434552</td>\n",
       "      <td>0.498113</td>\n",
       "      <td>0.188836</td>\n",
       "      <td>0.248116</td>\n",
       "      <td>-0.518070</td>\n",
       "      <td>0.414108</td>\n",
       "    </tr>\n",
       "  </tbody>\n",
       "</table>\n",
       "</div>"
      ],
      "text/plain": [
       "               Model       Best Params       MAE   MAE Std      RMSE  \\\n",
       "0  Linear Regression               N/A  0.241090  0.146091  0.435330   \n",
       "1   Ridge Regression     {'alpha': 10}  0.237533  0.141805  0.433083   \n",
       "2   Lasso Regression  {'alpha': 0.001}  0.240442  0.145130  0.434552   \n",
       "\n",
       "   RMSE Std       MSE   MSE Std        R2    R2 Std  \n",
       "0  0.259650  0.189512  0.248603 -0.519966  0.416523  \n",
       "1  0.498745  0.187561  0.248746 -0.513284  0.409282  \n",
       "2  0.498113  0.188836  0.248116 -0.518070  0.414108  "
      ]
     },
     "execution_count": 3,
     "metadata": {},
     "output_type": "execute_result"
    }
   ],
   "source": [
    "X = dataset[['disaster_cost_adjusted', 'human_outbreaks_per_million', 'covid_hospitalization_per_million', 'infected_flock_cnt', 'infected_h5n1_people_cnt', 'gas_price_per_gallon', 'temp_variance']].copy()\n",
    "Y = dataset.loc[:, TARGET_VAR:TARGET_VAR] # Extract the target variable (Y)\n",
    "\n",
    "# List to store all results\n",
    "results_list = []\n",
    "scoring = {\n",
    "    \"MSE\": make_scorer(mean_squared_error, greater_is_better=False),\n",
    "    \"MAE\": make_scorer(mean_absolute_error, greater_is_better=False),\n",
    "    \"R2\": make_scorer(r2_score)\n",
    "}\n",
    "\n",
    "# Loop through models\n",
    "for name, model in models.items():\n",
    "    if name in param_grids:  # Apply GridSearchCV if hyperparameters exist\n",
    "        grid_search = GridSearchCV(\n",
    "            model, param_grids[name], \n",
    "            cv=5, scoring=scoring, refit=\"R2\", n_jobs=-1, verbose=1\n",
    "        )\n",
    "        grid_search.fit(X, Y)\n",
    "\n",
    "        # Get best hyperparameters and model\n",
    "        best_params = grid_search.best_params_\n",
    "        best_model = grid_search.best_estimator_\n",
    "\n",
    "        # Extract cross-validation results from GridSearchCV\n",
    "        cv_results = grid_search.cv_results_\n",
    "        best_index = grid_search.best_index_\n",
    "\n",
    "        # Extract precomputed metrics\n",
    "        mean_mae = -cv_results[\"mean_test_MAE\"][best_index]\n",
    "        std_mae = cv_results[\"std_test_MAE\"][best_index]\n",
    "        mean_mse = -cv_results[\"mean_test_MSE\"][best_index]\n",
    "        std_mse = cv_results[\"std_test_MSE\"][best_index]\n",
    "        mean_rmse = np.sqrt(mean_mse)\n",
    "        std_rmse = np.sqrt(std_mse)  # Direct RMSE std calculation\n",
    "        mean_r2 = cv_results[\"mean_test_R2\"][best_index]\n",
    "        std_r2 = cv_results[\"std_test_R2\"][best_index]\n",
    "\n",
    "    else:\n",
    "        model.fit(X, Y)  # Train model directly if no hyperparameters\n",
    "        best_params = \"N/A\"\n",
    "        best_model = model\n",
    "\n",
    "        # Perform 5-fold CV only if GridSearchCV was not used\n",
    "        scores = cross_validate(best_model, X, Y, cv=5, scoring=scoring)\n",
    "\n",
    "        # Extract metrics from cross-validation results\n",
    "        mean_mae = -np.mean(scores[\"test_MAE\"])\n",
    "        std_mae = np.std(scores[\"test_MAE\"])\n",
    "        mean_mse = -np.mean(scores[\"test_MSE\"])\n",
    "        std_mse = np.std(scores[\"test_MSE\"])\n",
    "        mean_rmse = np.sqrt(mean_mse)\n",
    "        std_rmse = np.std(np.sqrt(-scores[\"test_MSE\"]))\n",
    "        mean_r2 = np.mean(scores[\"test_R2\"])\n",
    "        std_r2 = np.std(scores[\"test_R2\"])\n",
    "\n",
    "    # Store results\n",
    "    results_list.append({\n",
    "        'Model': name,\n",
    "        'Best Params': best_params,\n",
    "        'MAE': mean_mae,\n",
    "        'MAE Std': std_mae,\n",
    "        'RMSE': mean_rmse,\n",
    "        'RMSE Std': std_rmse,\n",
    "        'MSE': mean_mse,\n",
    "        'MSE Std': std_mse,\n",
    "        'R2': mean_r2,\n",
    "        'R2 Std': std_r2\n",
    "    })\n",
    "\n",
    "# Convert results to a DataFrame\n",
    "df_results = pd.DataFrame(results_list)\n",
    "df_results.head()"
   ]
  },
  {
   "cell_type": "code",
   "execution_count": 22,
   "metadata": {},
   "outputs": [],
   "source": [
    "df_results.to_csv(f'{model_results_file_path}/linear_ridge_lasso_cv_result.csv')"
   ]
  },
  {
   "cell_type": "code",
   "execution_count": 5,
   "metadata": {},
   "outputs": [
    {
     "data": {
      "image/png": "[encoded data removed]",
      "text/plain": [
       "<Figure size 1200x600 with 1 Axes>"
      ]
     },
     "metadata": {},
     "output_type": "display_data"
    }
   ],
   "source": [
    "import numpy as np\n",
    "\n",
    "metrics = [\"MSE\", \"RMSE\", \"MAE\", \"R2\"]\n",
    "x = np.arange(len(df_results))  # X-axis positions for models\n",
    "\n",
    "plt.figure(figsize=(12, 6))\n",
    "\n",
    "for i, metric in enumerate(metrics):\n",
    "    plt.bar(x + i * 0.2, df_results[metric], width=0.2, label=metric)\n",
    "\n",
    "plt.xlabel(\"Model\")\n",
    "plt.ylabel(\"Error Value\")\n",
    "plt.title(\"Error Metrics Comparison Across Models\")\n",
    "plt.xticks(x + 0.2, df_results[\"Model\"], rotation=45)\n",
    "plt.legend()\n",
    "plt.grid(axis=\"y\", linestyle=\"--\", alpha=0.5)\n",
    "plt.show()"
   ]
  }
 ],
 "metadata": {
  "kernelspec": {
   "display_name": "venv",
   "language": "python",
   "name": "python3"
  },
  "language_info": {
   "codemirror_mode": {
    "name": "ipython",
    "version": 3
   },
   "file_extension": ".py",
   "mimetype": "text/x-python",
   "name": "python",
   "nbconvert_exporter": "python",
   "pygments_lexer": "ipython3",
   "version": "3.13.0"
  }
 },
 "nbformat": 4,
 "nbformat_minor": 2
}
