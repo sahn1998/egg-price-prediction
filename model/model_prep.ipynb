{
 "cells": [
  {
   "cell_type": "markdown",
   "metadata": {},
   "source": [
    "# Import Files"
   ]
  },
  {
   "cell_type": "code",
   "execution_count": null,
   "metadata": {},
   "outputs": [
    {
     "ename": "ModuleNotFoundError",
     "evalue": "No module named 'pandas'",
     "output_type": "error",
     "traceback": [
      "\u001b[1;31m---------------------------------------------------------------------------\u001b[0m",
      "\u001b[1;31mModuleNotFoundError\u001b[0m                       Traceback (most recent call last)",
      "Cell \u001b[1;32mIn[1], line 3\u001b[0m\n\u001b[0;32m      1\u001b[0m \u001b[38;5;28;01mimport\u001b[39;00m \u001b[38;5;21;01mos\u001b[39;00m\n\u001b[1;32m----> 3\u001b[0m \u001b[38;5;28;01mimport\u001b[39;00m \u001b[38;5;21;01mpandas\u001b[39;00m \u001b[38;5;28;01mas\u001b[39;00m \u001b[38;5;21;01mpd\u001b[39;00m\n\u001b[0;32m      4\u001b[0m \u001b[38;5;28;01mimport\u001b[39;00m \u001b[38;5;21;01mnumpy\u001b[39;00m \u001b[38;5;28;01mas\u001b[39;00m \u001b[38;5;21;01mnp\u001b[39;00m\n\u001b[0;32m      5\u001b[0m \u001b[38;5;28;01mimport\u001b[39;00m \u001b[38;5;21;01mseaborn\u001b[39;00m \u001b[38;5;28;01mas\u001b[39;00m \u001b[38;5;21;01msns\u001b[39;00m\n",
      "\u001b[1;31mModuleNotFoundError\u001b[0m: No module named 'pandas'"
     ]
    }
   ],
   "source": [
    "import os\n",
    "\n",
    "import pandas as pd\n",
    "import numpy as np\n",
    "from pathlib import Path\n",
    "\n",
    "from datetime import datetime\n",
    "\n",
    "from sklearn.linear_model import Lasso, Ridge, LinearRegression\n",
    "from sklearn.model_selection import train_test_split\n",
    "from sklearn.metrics import accuracy_score\n",
    "\n",
    "from sklearn.model_selection import KFold\n",
    "from sklearn.metrics import mean_squared_error, mean_absolute_error, r2_score"
   ]
  },
  {
   "cell_type": "markdown",
   "metadata": {},
   "source": [
    "# Settings"
   ]
  },
  {
   "cell_type": "code",
   "execution_count": null,
   "metadata": {},
   "outputs": [],
   "source": [
    "# path to where we store our preprocessed data\n",
    "data_file_path = Path(\"../data\")\n",
    "\n",
    "# target variable\n",
    "TARGET_VAR = \"price_per_dozen\"\n",
    "\n",
    "def test_model(model, X_train, y_train, X_test, y_test):\n",
    "    \"\"\"\n",
    "    Trains the given model, makes predictions, and evaluates performance.\n",
    "\n",
    "    Args:\n",
    "        model: The ML model to train.\n",
    "        X_train: Training features.\n",
    "        y_train: Training labels.\n",
    "        X_test: Test features.\n",
    "        y_test: Test labels.\n",
    "    \"\"\"\n",
    "    model.fit(X_train, y_train)\n",
    "    y_pred_train = model.predict(X_train)\n",
    "    y_pred_test = model.predict(X_test)\n",
    "\n",
    "    print(f\"\\n{model.__class__.__name__} on Enhanced Features:\")\n",
    "    print(f\"Train Accuracy: {accuracy_score(y_train, y_pred_train):.4f}\")\n",
    "    print(f\"Test Accuracy:  {accuracy_score(y_test, y_pred_test):.4f}\")\n",
    "    \n",
    "    mse = mean_squared_error(y_test, y_pred_test)\n",
    "    rmse = np.sqrt(mse)\n",
    "    mae = mean_absolute_error(y_test, y_pred_test)\n",
    "    r2 = r2_score(y_test, y_pred_test)\n",
    "\n",
    "    # Store metrics in a dictionary\n",
    "    model_results = {\n",
    "        \"Model\": model.__class__.__name__,\n",
    "        \"Mean Squared Error\": mse,\n",
    "        \"Root Mean Squared Error\": rmse,\n",
    "        \"Mean Absolute Error\": mae,\n",
    "        \"r-squared\": r2\n",
    "    }\n",
    "\n",
    "    # Convert metrics into DataFrame for readability\n",
    "    df_metrics = pd.DataFrame([model_results])\n",
    "\n",
    "    print(\"\\nEvaluation Metrics:\")\n",
    "    print(df_metrics.to_string(index=False))\n",
    "\n",
    "    return model_results"
   ]
  },
  {
   "cell_type": "markdown",
   "metadata": {},
   "source": [
    "# Load Data"
   ]
  },
  {
   "cell_type": "code",
   "execution_count": null,
   "metadata": {},
   "outputs": [],
   "source": [
    "dataset = pd.read_csv(f'{data_file_path}/merged_data.csv') # change the merged egg price "
   ]
  },
  {
   "cell_type": "markdown",
   "metadata": {},
   "source": [
    "# Template for CV"
   ]
  },
  {
   "cell_type": "code",
   "execution_count": null,
   "metadata": {},
   "outputs": [],
   "source": [
    "# Extract features (X) by dropping the target variable\n",
    "X = dataset.drop([TARGET_VAR], axis=1)\n",
    "# Extract the target variable (Y)\n",
    "Y = dataset.loc[:, TARGET_VAR:TARGET_VAR]\n",
    "\n",
    "# Initialize 5-Fold Cross Validation\n",
    "kf = KFold(n_splits=5, shuffle=True, random_state=42)\n",
    "\n",
    "# Dictionary to store results\n",
    "results = {}\n",
    "fold = 1\n",
    "\n",
    "for train_index, val_index in kf.split(X):\n",
    "    X_train, X_val = X.iloc[train_index], X.iloc[val_index]\n",
    "    y_train, y_val = Y.iloc[train_index], Y.iloc[val_index]\n",
    "    \n",
    "    ## Copy this area as well as the settings to your model file and run model\n",
    "    ## Utilize the test model function that has been made above.\n",
    "\n",
    "    ## Your model should be run right under this code\n",
    "\n",
    "    fold += 1\n",
    "\n",
    "# Print results\n",
    "print(results)"
   ]
  },
  {
   "cell_type": "markdown",
   "metadata": {},
   "source": [
    "# Example of how to run models"
   ]
  },
  {
   "cell_type": "code",
   "execution_count": null,
   "metadata": {},
   "outputs": [],
   "source": [
    "# Initialize models\n",
    "models = {\n",
    "    \"Linear Regression\": LinearRegression(),\n",
    "    \"Ridge Regression\": Ridge(alpha=1.0),\n",
    "    \"Lasso Regression\": Lasso(alpha=0.1)\n",
    "}\n",
    "\n",
    "for name, model in models.items():\n",
    "    results[f'Fold {fold} - {name}'] = test_model(model, X_train, y_train, X_val, y_val)"
   ]
  }
 ],
 "metadata": {
  "kernelspec": {
   "display_name": "Python 3",
   "language": "python",
   "name": "python3"
  },
  "language_info": {
   "codemirror_mode": {
    "name": "ipython",
    "version": 3
   },
   "file_extension": ".py",
   "mimetype": "text/x-python",
   "name": "python",
   "nbconvert_exporter": "python",
   "pygments_lexer": "ipython3",
   "version": "3.12.6"
  }
 },
 "nbformat": 4,
 "nbformat_minor": 2
}
